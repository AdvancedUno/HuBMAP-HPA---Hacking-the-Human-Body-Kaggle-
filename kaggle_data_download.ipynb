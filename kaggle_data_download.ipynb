{
  "cells": [
    {
      "cell_type": "markdown",
      "metadata": {
        "id": "view-in-github",
        "colab_type": "text"
      },
      "source": [
        "<a href=\"https://colab.research.google.com/github/AdvancedUno/HuBMAP-HPA---Hacking-the-Human-Body-Kaggle-/blob/main/kaggle_data_download.ipynb\" target=\"_parent\"><img src=\"https://colab.research.google.com/assets/colab-badge.svg\" alt=\"Open In Colab\"/></a>"
      ]
    },
    {
      "cell_type": "code",
      "source": [
        "from google.colab import drive\n",
        "drive.mount('/content/drive')"
      ],
      "metadata": {
        "id": "rpymeCBDctKF"
      },
      "id": "rpymeCBDctKF",
      "execution_count": null,
      "outputs": []
    },
    {
      "cell_type": "code",
      "source": [
        "import cv2\n",
        "import numpy as np\n",
        "import os "
      ],
      "metadata": {
        "id": "I4t0kb5ocwFS"
      },
      "id": "I4t0kb5ocwFS",
      "execution_count": null,
      "outputs": []
    },
    {
      "cell_type": "code",
      "source": [
        "path = '/content/drive/MyDrive/DeepLearning/train_images' # 폴더 경로\n",
        "os.chdir(path) # 해당 폴더로 이동\n",
        "files = os.listdir(path) # 해당 폴더에 있는 파일 이름을 "
      ],
      "metadata": {
        "id": "F7wqjngJcwW0"
      },
      "id": "F7wqjngJcwW0",
      "execution_count": null,
      "outputs": []
    },
    {
      "cell_type": "code",
      "source": [
        "i  = 0\n",
        "for file in files:\n",
        "      newfile = file.replace(\"tiff\", \"png\")\n",
        "      print(newfile)\n",
        "      \n",
        "      i+=1\n",
        "      f = cv2.imread(file)\n",
        "      img = cv2.resize(f, dsize=(640, 640), interpolation=cv2.INTER_CUBIC)\n",
        "      cv2.imwrite(\"/content/drive/MyDrive/DeepLearning/training/\"+newfile, img)\n",
        "\n",
        "print(i)"
      ],
      "metadata": {
        "id": "f-td4A9LcwZG"
      },
      "id": "f-td4A9LcwZG",
      "execution_count": null,
      "outputs": []
    },
    {
      "cell_type": "code",
      "source": [
        "!pip install kaggle\n",
        "from google.colab import files\n",
        "files.upload()"
      ],
      "metadata": {
        "id": "FSDLN4z6cwbS"
      },
      "id": "FSDLN4z6cwbS",
      "execution_count": null,
      "outputs": []
    },
    {
      "cell_type": "code",
      "source": [
        "ls -lha kaggle.json"
      ],
      "metadata": {
        "id": "YHqBVoFFcwdV"
      },
      "id": "YHqBVoFFcwdV",
      "execution_count": null,
      "outputs": []
    },
    {
      "cell_type": "code",
      "source": [
        "!mkdir -p ~/.kaggle\n",
        "!mv kaggle.json ~/.kaggle/\n",
        "!chmod 600 ~/.kaggle/kaggle.json"
      ],
      "metadata": {
        "id": "mI1BPcmocwfi"
      },
      "id": "mI1BPcmocwfi",
      "execution_count": null,
      "outputs": []
    },
    {
      "cell_type": "code",
      "source": [
        "!kaggle competitions download -c hubmap-organ-segmentation"
      ],
      "metadata": {
        "id": "fEmLKUU_cwhv"
      },
      "id": "fEmLKUU_cwhv",
      "execution_count": null,
      "outputs": []
    },
    {
      "cell_type": "code",
      "source": [
        "!unzip -qq \"/content/drive/MyDrive/DeepLearning/hubmap-organ-segmentation.zip\""
      ],
      "metadata": {
        "id": "APZnRUKuc788"
      },
      "id": "APZnRUKuc788",
      "execution_count": null,
      "outputs": []
    },
    {
      "cell_type": "code",
      "source": [
        "import pandas as pd\n",
        "import numpy as np\n",
        "\n",
        "import os\n",
        "import json\n",
        "from tqdm.auto import tqdm\n",
        "import gc\n",
        "\n",
        "from skimage import io\n",
        "from skimage.transform import resize"
      ],
      "metadata": {
        "id": "s6XsjwLIc7_U"
      },
      "id": "s6XsjwLIc7_U",
      "execution_count": null,
      "outputs": []
    },
    {
      "cell_type": "code",
      "source": [
        "def rle2mask(mask_rle: str, shape=None, label: int = 0):\n",
        "    \"\"\"\n",
        "    mask_rle: run-length as string formatted (start length)\n",
        "    shape: (height,width) of array to return\n",
        "    Returns numpy array, 1 - mask, 0 - background\n",
        "\n",
        "    \"\"\"\n",
        "    rle = np.array(list(map(int, mask_rle.split())))\n",
        "    labels = np.zeros(shape).flatten()\n",
        "    \n",
        "    for start, end in zip(rle[::2], rle[1::2]):\n",
        "        labels[start:start+end] = label\n",
        "\n",
        "    return labels.reshape(shape).T  # Needed to align to RLE direction"
      ],
      "metadata": {
        "id": "Mg5ic9ctc8Br"
      },
      "id": "Mg5ic9ctc8Br",
      "execution_count": null,
      "outputs": []
    },
    {
      "cell_type": "code",
      "source": [
        "df_train = pd.read_csv(\"/content/drive/MyDrive/DeepLearning/train.csv\")"
      ],
      "metadata": {
        "id": "-cbp7E1Ic8D9"
      },
      "id": "-cbp7E1Ic8D9",
      "execution_count": null,
      "outputs": []
    },
    {
      "cell_type": "code",
      "source": [
        "organs = df_train['organ'].unique()"
      ],
      "metadata": {
        "id": "iY3o-Ov-dCjY"
      },
      "id": "iY3o-Ov-dCjY",
      "execution_count": null,
      "outputs": []
    },
    {
      "cell_type": "code",
      "source": [
        "organ_annotations = {}\n",
        "\n",
        "for i, organ in enumerate(organs):\n",
        "    organ_annotations[organ] = i+1\n",
        "    \n",
        "organ_annotations"
      ],
      "metadata": {
        "id": "SxYPuxH7dClm"
      },
      "id": "SxYPuxH7dClm",
      "execution_count": null,
      "outputs": []
    },
    {
      "cell_type": "code",
      "source": [
        "from google.colab.patches import cv2_imshow\n",
        "for file in files:\n",
        "      newfile = file.replace(\".tiff\", \"\")\n",
        "      savefile = file.replace(\"tiff\", \"png\")\n",
        "      #print(newfile)\n",
        "      #print(df_train)\n",
        "      newfile = int(newfile)\n",
        "      \n",
        "      rle = df_train[df_train['id'] == newfile]['rle'].values[0]\n",
        "      height = df_train[df_train['id'] == newfile]['img_height'].values[0]\n",
        "      width = df_train[df_train['id'] == newfile]['img_width'].values[0]\n",
        "      organ = df_train[df_train['id'] == newfile]['organ'].values[0]\n",
        "      \n",
        "      mask = rle2mask(rle, shape=(height, width), label=organ_annotations[organ])\n",
        "      mask = cv2.resize(mask, dsize=(640, 640), interpolation=cv2.INTER_CUBIC)\n",
        "      cv2.imwrite(\"/content/drive/MyDrive/DeepLearning/mask/\"+savefile, mask)\n",
        "      \n",
        "      #cv2.imshow(\"a\", mask)\n",
        "      #print(mask.shape)\n",
        "      #cv2_imshow(mask)\n",
        "\n",
        "      #cv2.waitKey()\n",
        "\n",
        "      #cv2.destroyAllWindows()\n",
        "\n"
      ],
      "metadata": {
        "id": "2fhaBbUndCnt"
      },
      "id": "2fhaBbUndCnt",
      "execution_count": null,
      "outputs": []
    },
    {
      "cell_type": "code",
      "source": [],
      "metadata": {
        "id": "O8zKv5Suc8Ga"
      },
      "id": "O8zKv5Suc8Ga",
      "execution_count": null,
      "outputs": []
    }
  ],
  "metadata": {
    "kernelspec": {
      "display_name": "Python 3 (ipykernel)",
      "language": "python",
      "name": "python3"
    },
    "language_info": {
      "codemirror_mode": {
        "name": "ipython",
        "version": 3
      },
      "file_extension": ".py",
      "mimetype": "text/x-python",
      "name": "python",
      "nbconvert_exporter": "python",
      "pygments_lexer": "ipython3",
      "version": "3.9.7"
    },
    "colab": {
      "provenance": [],
      "collapsed_sections": [],
      "include_colab_link": true
    }
  },
  "nbformat": 4,
  "nbformat_minor": 5
}