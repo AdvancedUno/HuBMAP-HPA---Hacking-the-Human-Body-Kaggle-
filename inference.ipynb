{
 "cells": [
  {
   "cell_type": "markdown",
   "id": "23ae87d6",
   "metadata": {
    "_cell_guid": "97158408-2db2-4107-bc9d-56da632655d3",
    "_uuid": "cc0d1647-767c-4e90-83da-a839f1006957",
    "execution": {
     "iopub.execute_input": "2022-08-23T14:48:21.567427Z",
     "iopub.status.busy": "2022-08-23T14:48:21.566796Z",
     "iopub.status.idle": "2022-08-23T14:49:15.197698Z",
     "shell.execute_reply": "2022-08-23T14:49:15.196469Z",
     "shell.execute_reply.started": "2022-08-23T14:48:21.567393Z"
    },
    "jupyter": {
     "outputs_hidden": false
    },
    "papermill": {
     "duration": 0.004683,
     "end_time": "2022-09-07T06:34:24.172158",
     "exception": false,
     "start_time": "2022-09-07T06:34:24.167475",
     "status": "completed"
    },
    "tags": []
   },
   "source": [
    "#### This notebook continues my previous work.\n",
    "#### If you trained model with https://www.kaggle.com/code/alexeyolkhovikov/segformer-training, you can use this notebook for inference.\n",
    "#### If you find this notebook useful, please upvote!"
   ]
  },
  {
   "cell_type": "code",
   "execution_count": 1,
   "id": "16bc8611",
   "metadata": {
    "execution": {
     "iopub.execute_input": "2022-09-07T06:34:24.182065Z",
     "iopub.status.busy": "2022-09-07T06:34:24.181237Z",
     "iopub.status.idle": "2022-09-07T06:35:20.059308Z",
     "shell.execute_reply": "2022-09-07T06:35:20.058158Z"
    },
    "papermill": {
     "duration": 55.886076,
     "end_time": "2022-09-07T06:35:20.062076",
     "exception": false,
     "start_time": "2022-09-07T06:34:24.176000",
     "status": "completed"
    },
    "tags": []
   },
   "outputs": [
    {
     "name": "stdout",
     "output_type": "stream",
     "text": [
      "Writing to /root/.config/pip/pip.conf\r\n",
      "\u001b[33mWARNING: Running pip as the 'root' user can result in broken permissions and conflicting behaviour with the system package manager. It is recommended to use a virtual environment instead: https://pip.pypa.io/warnings/venv\u001b[0m\u001b[33m\r\n",
      "\u001b[0m\u001b[33mWARNING: Running pip as the 'root' user can result in broken permissions and conflicting behaviour with the system package manager. It is recommended to use a virtual environment instead: https://pip.pypa.io/warnings/venv\u001b[0m\u001b[33m\r\n",
      "\u001b[0m\u001b[33mWARNING: Running pip as the 'root' user can result in broken permissions and conflicting behaviour with the system package manager. It is recommended to use a virtual environment instead: https://pip.pypa.io/warnings/venv\u001b[0m\u001b[33m\r\n",
      "\u001b[0m\u001b[33mWARNING: Running pip as the 'root' user can result in broken permissions and conflicting behaviour with the system package manager. It is recommended to use a virtual environment instead: https://pip.pypa.io/warnings/venv\u001b[0m\u001b[33m\r\n",
      "\u001b[0m\u001b[33mWARNING: Running pip as the 'root' user can result in broken permissions and conflicting behaviour with the system package manager. It is recommended to use a virtual environment instead: https://pip.pypa.io/warnings/venv\u001b[0m\u001b[33m\r\n",
      "\u001b[0m"
     ]
    }
   ],
   "source": [
    "!cp -r ../input/pytorch-segmentation-models-lib/ ./\n",
    "!cp -r ../input/torchmetrics/ ./\n",
    "\n",
    "!pip config set global.disable-pip-version-check true\n",
    "\n",
    "!pip install -q ./pytorch-segmentation-models-lib/pretrainedmodels-0.7.4/pretrainedmodels-0.7.4\n",
    "!pip install -q ./pytorch-segmentation-models-lib/efficientnet_pytorch-0.6.3/efficientnet_pytorch-0.6.3\n",
    "!pip install -q ./pytorch-segmentation-models-lib/timm-0.4.12-py3-none-any.whl\n",
    "!pip install -q ./pytorch-segmentation-models-lib/segmentation_models_pytorch-0.2.0-py3-none-any.whl\n",
    "!pip install -q ./torchmetrics/torchmetrics-0.9.1-py3-none-any.whl"
   ]
  },
  {
   "cell_type": "code",
   "execution_count": 2,
   "id": "37caeb57",
   "metadata": {
    "execution": {
     "iopub.execute_input": "2022-09-07T06:35:20.072101Z",
     "iopub.status.busy": "2022-09-07T06:35:20.071794Z",
     "iopub.status.idle": "2022-09-07T06:35:27.810377Z",
     "shell.execute_reply": "2022-09-07T06:35:27.809374Z"
    },
    "papermill": {
     "duration": 7.746778,
     "end_time": "2022-09-07T06:35:27.813186",
     "exception": false,
     "start_time": "2022-09-07T06:35:20.066408",
     "status": "completed"
    },
    "tags": []
   },
   "outputs": [],
   "source": [
    "import pandas as pd\n",
    "import numpy as np\n",
    "\n",
    "import os\n",
    "import json\n",
    "from tqdm.auto import tqdm\n",
    "import gc\n",
    "\n",
    "from skimage import io\n",
    "from skimage.transform import resize\n",
    "from PIL import Image\n",
    "\n",
    "import matplotlib.pyplot as plt\n",
    "\n",
    "import torch\n",
    "import torch.nn as nn\n",
    "import torch.nn.functional as F\n",
    "from torch.utils.data import Dataset, DataLoader\n",
    "import albumentations as A\n",
    "from albumentations.pytorch.transforms import ToTensorV2\n",
    "\n",
    "from transformers import SegformerFeatureExtractor, SegformerForSemanticSegmentation\n",
    "\n",
    "import pytorch_lightning as pl\n",
    "from pytorch_lightning import Trainer\n",
    "import segmentation_models_pytorch as smp\n",
    "from torchmetrics import Dice"
   ]
  },
  {
   "cell_type": "code",
   "execution_count": 3,
   "id": "5d1f4e3f",
   "metadata": {
    "execution": {
     "iopub.execute_input": "2022-09-07T06:35:27.824649Z",
     "iopub.status.busy": "2022-09-07T06:35:27.823163Z",
     "iopub.status.idle": "2022-09-07T06:35:27.829313Z",
     "shell.execute_reply": "2022-09-07T06:35:27.828362Z"
    },
    "papermill": {
     "duration": 0.013971,
     "end_time": "2022-09-07T06:35:27.831675",
     "exception": false,
     "start_time": "2022-09-07T06:35:27.817704",
     "status": "completed"
    },
    "tags": []
   },
   "outputs": [],
   "source": [
    "TEST_IMG_PATH = \"../input/hubmap-organ-segmentation/test_images/\"\n",
    "\n",
    "MODEL_PATH = [\n",
    "    \"../input/unosegformer/Segformer\",\n",
    "]"
   ]
  },
  {
   "cell_type": "code",
   "execution_count": 4,
   "id": "1b65de6f",
   "metadata": {
    "execution": {
     "iopub.execute_input": "2022-09-07T06:35:27.841898Z",
     "iopub.status.busy": "2022-09-07T06:35:27.841506Z",
     "iopub.status.idle": "2022-09-07T06:35:27.849623Z",
     "shell.execute_reply": "2022-09-07T06:35:27.848483Z"
    },
    "papermill": {
     "duration": 0.015781,
     "end_time": "2022-09-07T06:35:27.851656",
     "exception": false,
     "start_time": "2022-09-07T06:35:27.835875",
     "status": "completed"
    },
    "tags": []
   },
   "outputs": [],
   "source": [
    "def mask_to_rle(mask):\n",
    "    #Rescale image to original size\n",
    "    size = int(len(mask.flatten())**.5)\n",
    "    n = Image.fromarray(mask.reshape((size, size))*255.0)\n",
    "    n = np.array(n).astype(np.float32)\n",
    "    #Get pixels to flatten\n",
    "    pixels = n.T.flatten()\n",
    "    #Round the pixels using the half of the range of pixel value\n",
    "    pixels = (pixels-min(pixels) > ((max(pixels)-min(pixels))/2)).astype(int)\n",
    "    pixels = np.nan_to_num(pixels) #incase of zero-div-error\n",
    "    \n",
    "    pixels = np.concatenate([[0], pixels, [0]])\n",
    "    runs = np.where(pixels[1:] != pixels[:-1])[0]\n",
    "    runs[1::2] -= runs[::2]\n",
    "    \n",
    "    return ' '.join(str(x) for x in runs)"
   ]
  },
  {
   "cell_type": "code",
   "execution_count": 5,
   "id": "618e9bb5",
   "metadata": {
    "execution": {
     "iopub.execute_input": "2022-09-07T06:35:27.861485Z",
     "iopub.status.busy": "2022-09-07T06:35:27.861169Z",
     "iopub.status.idle": "2022-09-07T06:35:27.880862Z",
     "shell.execute_reply": "2022-09-07T06:35:27.879628Z"
    },
    "papermill": {
     "duration": 0.027618,
     "end_time": "2022-09-07T06:35:27.883420",
     "exception": false,
     "start_time": "2022-09-07T06:35:27.855802",
     "status": "completed"
    },
    "tags": []
   },
   "outputs": [],
   "source": [
    "class SegmentationModel(pl.LightningModule):\n",
    "    def __init__(\n",
    "        self,\n",
    "        model\n",
    "        ):\n",
    "        super(SegmentationModel, self).__init__()\n",
    "        \n",
    "        self.model = model\n",
    "        \n",
    "        self.criterion = smp.losses.DiceLoss(\n",
    "            smp.losses.BINARY_MODE,\n",
    "            from_logits=True,\n",
    "            log_loss=True\n",
    "        )\n",
    "\n",
    "        self.metric = Dice(\n",
    "            num_classes=1,\n",
    "            average='none'\n",
    "        )\n",
    "        \n",
    "    def forward(self, image, size):\n",
    "        outputs = self.model(image)\n",
    "        \n",
    "        upsampled_logits = nn.functional.interpolate(\n",
    "            outputs.logits,\n",
    "            size=size, \n",
    "            mode=\"bilinear\",\n",
    "            align_corners=False\n",
    "        )\n",
    "        \n",
    "        return upsampled_logits\n",
    "        \n",
    "\n",
    "    def training_step(self, batch, batch_idx):\n",
    "        image, mask = batch[0], batch[1]\n",
    "        outputs = self.model(pixel_values=image, labels=mask.long())\n",
    "        \n",
    "        upsampled_logits = nn.functional.interpolate(\n",
    "            outputs.logits,\n",
    "            size=mask.shape[-2:], \n",
    "            mode=\"bilinear\",\n",
    "            align_corners=False\n",
    "        )\n",
    "        \n",
    "        loss = outputs.loss\n",
    "        \n",
    "        return {'loss': loss, 'logits_mask': upsampled_logits, 'mask': mask}\n",
    "    \n",
    "    def training_epoch_end(self, outputs):\n",
    "        loss = [item['loss'].item() for item in outputs]\n",
    "        logits_mask = torch.cat([item['logits_mask'] for item in outputs]).sigmoid()\n",
    "        mask = torch.cat([item['mask'] for item in outputs])\n",
    "        \n",
    "        pred_mask = logits_mask.argmax(dim=1).float()\n",
    "        \n",
    "        tp, fp, fn, tn = smp.metrics.get_stats(pred_mask.long(), mask.long(), mode=\"binary\")\n",
    "        per_image_iou = smp.metrics.iou_score(tp, fp, fn, tn, reduction=\"micro-imagewise\")\n",
    "        dataset_iou = smp.metrics.iou_score(tp, fp, fn, tn, reduction=\"micro\")\n",
    "        \n",
    "        log_parameters = {\n",
    "            \"loss_train\": np.mean(loss),\n",
    "            \"per_image_iou_train\": per_image_iou,\n",
    "            \"dataset_iou_train\": dataset_iou,\n",
    "        }\n",
    "        \n",
    "        self.log_dict(log_parameters)\n",
    "    \n",
    "    def validation_step(self, batch, batch_idx):\n",
    "        image, mask = batch[0], batch[1]\n",
    "        outputs = self.model(pixel_values=image, labels=mask.long())\n",
    "        \n",
    "        upsampled_logits = nn.functional.interpolate(\n",
    "            outputs.logits,\n",
    "            size=mask.shape[-2:], \n",
    "            mode=\"bilinear\",\n",
    "            align_corners=False\n",
    "        )\n",
    "        \n",
    "        loss = outputs.loss\n",
    "        \n",
    "        return {'loss': loss, 'logits_mask': upsampled_logits, 'mask': mask}\n",
    "        \n",
    "    def validation_epoch_end(self, outputs):\n",
    "        loss = torch.from_numpy(np.array([item['loss'].item() for item in outputs]))\n",
    "        logits_mask = torch.cat([item['logits_mask'] for item in outputs]).sigmoid()\n",
    "        mask = torch.cat([item['mask'] for item in outputs])\n",
    "        \n",
    "        pred_mask = logits_mask.argmax(dim=1).float()\n",
    "        \n",
    "        tp, fp, fn, tn = smp.metrics.get_stats(pred_mask.long(), mask.long(), mode=\"binary\")\n",
    "        per_image_iou = smp.metrics.iou_score(tp, fp, fn, tn, reduction=\"micro-imagewise\")\n",
    "        dataset_iou = smp.metrics.iou_score(tp, fp, fn, tn, reduction=\"micro\")\n",
    "        \n",
    "        log_parameters = {\n",
    "            \"loss_valid\": torch.mean(loss),\n",
    "            \"per_image_iou_valid\": per_image_iou,\n",
    "            \"dataset_iou_valid\": dataset_iou,\n",
    "        }\n",
    "        \n",
    "        self.log_dict(log_parameters)        \n",
    "\n",
    "    def configure_optimizers(self):\n",
    "        optimizer = torch.optim.Adam(self.parameters(), lr=1e-3)\n",
    "        scheduler = PeakScheduler(\n",
    "            optimizer,\n",
    "            lr_ramp_ep=int(Config.EPOCHS * 0.25), \n",
    "            lr_decay=0.95,\n",
    "            lr_max=1e-03,\n",
    "            lr_min=1e-06\n",
    "        )\n",
    "        \n",
    "        return {\n",
    "            \"optimizer\": optimizer,\n",
    "            \"lr_scheduler\": {\"scheduler\": scheduler, \"interval\": \"epoch\", \"frequency\": 1}\n",
    "        }"
   ]
  },
  {
   "cell_type": "code",
   "execution_count": 6,
   "id": "fac44325",
   "metadata": {
    "execution": {
     "iopub.execute_input": "2022-09-07T06:35:27.893091Z",
     "iopub.status.busy": "2022-09-07T06:35:27.892765Z",
     "iopub.status.idle": "2022-09-07T06:35:36.570269Z",
     "shell.execute_reply": "2022-09-07T06:35:36.569264Z"
    },
    "papermill": {
     "duration": 8.685545,
     "end_time": "2022-09-07T06:35:36.573170",
     "exception": false,
     "start_time": "2022-09-07T06:35:27.887625",
     "status": "completed"
    },
    "tags": []
   },
   "outputs": [],
   "source": [
    "models = []\n",
    "\n",
    "for p in MODEL_PATH:\n",
    "    net = SegformerForSemanticSegmentation.from_pretrained(p)\n",
    "    model = SegmentationModel(net)\n",
    "    model = model.to(\"cuda\")\n",
    "    models.append(model)\n",
    "    "
   ]
  },
  {
   "cell_type": "code",
   "execution_count": 7,
   "id": "b0c10fbf",
   "metadata": {
    "execution": {
     "iopub.execute_input": "2022-09-07T06:35:36.583590Z",
     "iopub.status.busy": "2022-09-07T06:35:36.582875Z",
     "iopub.status.idle": "2022-09-07T06:35:36.591729Z",
     "shell.execute_reply": "2022-09-07T06:35:36.590783Z"
    },
    "papermill": {
     "duration": 0.016236,
     "end_time": "2022-09-07T06:35:36.593826",
     "exception": false,
     "start_time": "2022-09-07T06:35:36.577590",
     "status": "completed"
    },
    "tags": []
   },
   "outputs": [],
   "source": [
    "IMG_SIZE = 768\n",
    "\n",
    "class CustomDatasetTest(Dataset):\n",
    "    def __init__(\n",
    "        self, \n",
    "        paths: str = None,\n",
    "        img_size: int = None\n",
    "        ):\n",
    "        \n",
    "        self.paths = paths\n",
    "        \n",
    "        self.transform = A.Compose([\n",
    "            A.Resize(img_size, img_size),\n",
    "            A.Normalize()\n",
    "        ])\n",
    "\n",
    "        self.to_tensor = ToTensorV2()\n",
    "        self.img_size = img_size\n",
    "    \n",
    "    def __len__(self):\n",
    "        return len(self.paths)\n",
    "    \n",
    "    def __getitem__(\n",
    "        self, \n",
    "        idx: int = None\n",
    "    ):\n",
    "        img = np.asarray(Image.open(self.paths[idx]))\n",
    "        \n",
    "        H, W = img.shape[:2]\n",
    "        \n",
    "        transformed = self.transform(image=img)\n",
    "        \n",
    "        return {\n",
    "            'image': self.to_tensor(image=transformed['image'].copy())['image'],\n",
    "#             'image_small': self.to_tensor(image=A.Normalize()(image=A.Resize(512, 512)(image=img)['image'])['image'])['image'],\n",
    "#             'image_big': self.to_tensor(image=A.Normalize()(image=A.Resize(1024, 1024)(image=img)['image'])['image'])['image'],\n",
    "#             'image_blurred': self.to_tensor(image=A.Blur(p=1.)(image=transformed['image'].copy())['image'])['image'],\n",
    "#             'image_jittered': self.to_tensor(image=A.ColorJitter(p=1.)(image=transformed['image'].copy())['image'])['image'],\n",
    "            'image_num': self.paths[idx].split(\"/\")[-1].split(\".\")[0],\n",
    "            'initial_size': (H, W)\n",
    "        }"
   ]
  },
  {
   "cell_type": "code",
   "execution_count": 8,
   "id": "b7abe145",
   "metadata": {
    "execution": {
     "iopub.execute_input": "2022-09-07T06:35:36.602734Z",
     "iopub.status.busy": "2022-09-07T06:35:36.602469Z",
     "iopub.status.idle": "2022-09-07T06:35:36.610850Z",
     "shell.execute_reply": "2022-09-07T06:35:36.609944Z"
    },
    "papermill": {
     "duration": 0.015247,
     "end_time": "2022-09-07T06:35:36.613093",
     "exception": false,
     "start_time": "2022-09-07T06:35:36.597846",
     "status": "completed"
    },
    "tags": []
   },
   "outputs": [],
   "source": [
    "paths = [os.path.join(TEST_IMG_PATH, img) for img in os.listdir(TEST_IMG_PATH)]\n",
    "dataset_test = CustomDatasetTest(paths, IMG_SIZE)\n",
    "dataloader_test = DataLoader(dataset_test, batch_size=1, drop_last=False)"
   ]
  },
  {
   "cell_type": "code",
   "execution_count": 9,
   "id": "e3a8d7fe",
   "metadata": {
    "execution": {
     "iopub.execute_input": "2022-09-07T06:35:36.623461Z",
     "iopub.status.busy": "2022-09-07T06:35:36.621962Z",
     "iopub.status.idle": "2022-09-07T06:35:36.630412Z",
     "shell.execute_reply": "2022-09-07T06:35:36.629555Z"
    },
    "papermill": {
     "duration": 0.015468,
     "end_time": "2022-09-07T06:35:36.632444",
     "exception": false,
     "start_time": "2022-09-07T06:35:36.616976",
     "status": "completed"
    },
    "tags": []
   },
   "outputs": [],
   "source": [
    "def rotate(img, k, model):\n",
    "    logits_rot = model.forward(\n",
    "        torch.rot90(img, k=k, dims=[2, 3]).to(\"cuda\", dtype=torch.float32),\n",
    "        size=batch['initial_size']\n",
    "    ).to(\"cpu\") \n",
    "            \n",
    "    logits_rot = torch.rot90(logits_rot, k=k, dims=[3, 2])\n",
    "    \n",
    "    return logits_rot  \n",
    "\n",
    "def flip_vertical(img, model):\n",
    "    logits_flipped = model.forward(\n",
    "        torch.flip(img, dims=[3]).to(\"cuda\", dtype=torch.float32),\n",
    "        size=batch['initial_size']\n",
    "    ).to(\"cpu\") \n",
    "    \n",
    "    logits_flipped = torch.flip(logits_flipped, dims=[3])\n",
    "\n",
    "    return logits_flipped\n",
    "\n",
    "def flip_horizontal(img, model):\n",
    "    logits_flipped = model.forward(\n",
    "        torch.flip(img, dims=[1, 2]).to(\"cuda\", dtype=torch.float32),\n",
    "        size=batch['initial_size']\n",
    "    ).to(\"cpu\") \n",
    "    \n",
    "    logits_flipped = torch.flip(logits_flipped, dims=[1, 2])\n",
    "\n",
    "    return logits_flipped"
   ]
  },
  {
   "cell_type": "code",
   "execution_count": 10,
   "id": "94605220",
   "metadata": {
    "execution": {
     "iopub.execute_input": "2022-09-07T06:35:36.642542Z",
     "iopub.status.busy": "2022-09-07T06:35:36.641690Z",
     "iopub.status.idle": "2022-09-07T06:35:45.896315Z",
     "shell.execute_reply": "2022-09-07T06:35:45.895316Z"
    },
    "papermill": {
     "duration": 9.261327,
     "end_time": "2022-09-07T06:35:45.898291",
     "exception": false,
     "start_time": "2022-09-07T06:35:36.636964",
     "status": "completed"
    },
    "tags": []
   },
   "outputs": [
    {
     "data": {
      "application/vnd.jupyter.widget-view+json": {
       "model_id": "eb60a8cc9afc485aa58bbb7d8d9ab3dc",
       "version_major": 2,
       "version_minor": 0
      },
      "text/plain": [
       "  0%|          | 0/1 [00:00<?, ?it/s]"
      ]
     },
     "metadata": {},
     "output_type": "display_data"
    }
   ],
   "source": [
    "ids = []\n",
    "rle = []\n",
    "\n",
    "for _, batch in enumerate(tqdm(dataloader_test)):\n",
    "    preds = []\n",
    "    with torch.no_grad():\n",
    "        for model in models:\n",
    "            model.eval()\n",
    "            \n",
    "            img = batch['image']\n",
    "            \n",
    "            logits_image = model.forward(\n",
    "                img.to(\"cuda\", dtype=torch.float32),\n",
    "                size=batch['initial_size']\n",
    "            ).to(\"cpu\")\n",
    "            \n",
    "#             logits_rot_90 = rotate(img, 1, model)\n",
    "#             logits_rot_180 = rotate(img, 2, model)\n",
    "#             logits_rots_270 = rotate(img, 3, model)\n",
    "            \n",
    "            logits_flipped_H = flip_horizontal(img, model)\n",
    "            logits_flipped_V = flip_vertical(img, model)\n",
    "\n",
    "        \n",
    "            preds.extend([logits_image, logits_flipped_H, logits_flipped_V]) #, logits_rot_90, logits_rot_180, logits_rots_270\n",
    "        \n",
    "    preds = torch.mean(torch.cat(preds, dim=0), dim=0).unsqueeze(0)\n",
    "    \n",
    "    \n",
    "    \n",
    "    pr_masks = preds.sigmoid().argmax(1)\n",
    "    \n",
    "    \n",
    "        \n",
    "    ids.append(batch['image_num'][0])\n",
    "    rle.append(mask_to_rle(pr_masks.numpy()))"
   ]
  },
  {
   "cell_type": "code",
   "execution_count": 11,
   "id": "3669e556",
   "metadata": {
    "execution": {
     "iopub.execute_input": "2022-09-07T06:35:45.908367Z",
     "iopub.status.busy": "2022-09-07T06:35:45.907760Z",
     "iopub.status.idle": "2022-09-07T06:35:45.912481Z",
     "shell.execute_reply": "2022-09-07T06:35:45.911527Z"
    },
    "papermill": {
     "duration": 0.011866,
     "end_time": "2022-09-07T06:35:45.914549",
     "exception": false,
     "start_time": "2022-09-07T06:35:45.902683",
     "status": "completed"
    },
    "tags": []
   },
   "outputs": [],
   "source": [
    "submission = {\n",
    "    \"id\": ids,\n",
    "    \"rle\": rle\n",
    "}"
   ]
  },
  {
   "cell_type": "code",
   "execution_count": 12,
   "id": "29587e50",
   "metadata": {
    "execution": {
     "iopub.execute_input": "2022-09-07T06:35:45.925182Z",
     "iopub.status.busy": "2022-09-07T06:35:45.923534Z",
     "iopub.status.idle": "2022-09-07T06:35:45.936573Z",
     "shell.execute_reply": "2022-09-07T06:35:45.935573Z"
    },
    "papermill": {
     "duration": 0.019984,
     "end_time": "2022-09-07T06:35:45.938643",
     "exception": false,
     "start_time": "2022-09-07T06:35:45.918659",
     "status": "completed"
    },
    "tags": []
   },
   "outputs": [],
   "source": [
    "submission = pd.DataFrame.from_dict(submission)\n",
    "submission.to_csv(\"submission.csv\", index=False)"
   ]
  },
  {
   "cell_type": "code",
   "execution_count": 13,
   "id": "e0b145fe",
   "metadata": {
    "execution": {
     "iopub.execute_input": "2022-09-07T06:35:45.947704Z",
     "iopub.status.busy": "2022-09-07T06:35:45.947441Z",
     "iopub.status.idle": "2022-09-07T06:35:45.961750Z",
     "shell.execute_reply": "2022-09-07T06:35:45.960734Z"
    },
    "papermill": {
     "duration": 0.021392,
     "end_time": "2022-09-07T06:35:45.964083",
     "exception": false,
     "start_time": "2022-09-07T06:35:45.942691",
     "status": "completed"
    },
    "tags": []
   },
   "outputs": [
    {
     "data": {
      "text/html": [
       "<div>\n",
       "<style scoped>\n",
       "    .dataframe tbody tr th:only-of-type {\n",
       "        vertical-align: middle;\n",
       "    }\n",
       "\n",
       "    .dataframe tbody tr th {\n",
       "        vertical-align: top;\n",
       "    }\n",
       "\n",
       "    .dataframe thead th {\n",
       "        text-align: right;\n",
       "    }\n",
       "</style>\n",
       "<table border=\"1\" class=\"dataframe\">\n",
       "  <thead>\n",
       "    <tr style=\"text-align: right;\">\n",
       "      <th></th>\n",
       "      <th>id</th>\n",
       "      <th>rle</th>\n",
       "    </tr>\n",
       "  </thead>\n",
       "  <tbody>\n",
       "    <tr>\n",
       "      <th>0</th>\n",
       "      <td>10078</td>\n",
       "      <td>390 119 2413 119 4436 119 6459 119 8482 119 10...</td>\n",
       "    </tr>\n",
       "  </tbody>\n",
       "</table>\n",
       "</div>"
      ],
      "text/plain": [
       "      id                                                rle\n",
       "0  10078  390 119 2413 119 4436 119 6459 119 8482 119 10..."
      ]
     },
     "execution_count": 13,
     "metadata": {},
     "output_type": "execute_result"
    }
   ],
   "source": [
    "submission"
   ]
  },
  {
   "cell_type": "code",
   "execution_count": null,
   "id": "d86b7c5b",
   "metadata": {
    "papermill": {
     "duration": 0.00393,
     "end_time": "2022-09-07T06:35:45.972103",
     "exception": false,
     "start_time": "2022-09-07T06:35:45.968173",
     "status": "completed"
    },
    "tags": []
   },
   "outputs": [],
   "source": []
  }
 ],
 "metadata": {
  "kernelspec": {
   "display_name": "Python 3",
   "language": "python",
   "name": "python3"
  },
  "language_info": {
   "codemirror_mode": {
    "name": "ipython",
    "version": 3
   },
   "file_extension": ".py",
   "mimetype": "text/x-python",
   "name": "python",
   "nbconvert_exporter": "python",
   "pygments_lexer": "ipython3",
   "version": "3.7.12"
  },
  "papermill": {
   "default_parameters": {},
   "duration": 92.375678,
   "end_time": "2022-09-07T06:35:48.448469",
   "environment_variables": {},
   "exception": null,
   "input_path": "__notebook__.ipynb",
   "output_path": "__notebook__.ipynb",
   "parameters": {},
   "start_time": "2022-09-07T06:34:16.072791",
   "version": "2.3.4"
  },
  "widgets": {
   "application/vnd.jupyter.widget-state+json": {
    "state": {
     "2096db95d48f426cbcf213e29d67be83": {
      "model_module": "@jupyter-widgets/controls",
      "model_module_version": "1.5.0",
      "model_name": "DescriptionStyleModel",
      "state": {
       "_model_module": "@jupyter-widgets/controls",
       "_model_module_version": "1.5.0",
       "_model_name": "DescriptionStyleModel",
       "_view_count": null,
       "_view_module": "@jupyter-widgets/base",
       "_view_module_version": "1.2.0",
       "_view_name": "StyleView",
       "description_width": ""
      }
     },
     "58e5adf3199d44a9bb6ce1823644a6ca": {
      "model_module": "@jupyter-widgets/controls",
      "model_module_version": "1.5.0",
      "model_name": "ProgressStyleModel",
      "state": {
       "_model_module": "@jupyter-widgets/controls",
       "_model_module_version": "1.5.0",
       "_model_name": "ProgressStyleModel",
       "_view_count": null,
       "_view_module": "@jupyter-widgets/base",
       "_view_module_version": "1.2.0",
       "_view_name": "StyleView",
       "bar_color": null,
       "description_width": ""
      }
     },
     "5a0e6c26932240eb9be8a5c37777d9ed": {
      "model_module": "@jupyter-widgets/base",
      "model_module_version": "1.2.0",
      "model_name": "LayoutModel",
      "state": {
       "_model_module": "@jupyter-widgets/base",
       "_model_module_version": "1.2.0",
       "_model_name": "LayoutModel",
       "_view_count": null,
       "_view_module": "@jupyter-widgets/base",
       "_view_module_version": "1.2.0",
       "_view_name": "LayoutView",
       "align_content": null,
       "align_items": null,
       "align_self": null,
       "border": null,
       "bottom": null,
       "display": null,
       "flex": null,
       "flex_flow": null,
       "grid_area": null,
       "grid_auto_columns": null,
       "grid_auto_flow": null,
       "grid_auto_rows": null,
       "grid_column": null,
       "grid_gap": null,
       "grid_row": null,
       "grid_template_areas": null,
       "grid_template_columns": null,
       "grid_template_rows": null,
       "height": null,
       "justify_content": null,
       "justify_items": null,
       "left": null,
       "margin": null,
       "max_height": null,
       "max_width": null,
       "min_height": null,
       "min_width": null,
       "object_fit": null,
       "object_position": null,
       "order": null,
       "overflow": null,
       "overflow_x": null,
       "overflow_y": null,
       "padding": null,
       "right": null,
       "top": null,
       "visibility": null,
       "width": null
      }
     },
     "626d96042bb647ad966c326e1f9ce846": {
      "model_module": "@jupyter-widgets/controls",
      "model_module_version": "1.5.0",
      "model_name": "HTMLModel",
      "state": {
       "_dom_classes": [],
       "_model_module": "@jupyter-widgets/controls",
       "_model_module_version": "1.5.0",
       "_model_name": "HTMLModel",
       "_view_count": null,
       "_view_module": "@jupyter-widgets/controls",
       "_view_module_version": "1.5.0",
       "_view_name": "HTMLView",
       "description": "",
       "description_tooltip": null,
       "layout": "IPY_MODEL_7e087672f2dd4c6e94cca5db50c6eff7",
       "placeholder": "​",
       "style": "IPY_MODEL_e4d6cbbcc5ef4d33bb741ce15a011394",
       "value": "100%"
      }
     },
     "76529c78a336447c8c6567168de287ab": {
      "model_module": "@jupyter-widgets/base",
      "model_module_version": "1.2.0",
      "model_name": "LayoutModel",
      "state": {
       "_model_module": "@jupyter-widgets/base",
       "_model_module_version": "1.2.0",
       "_model_name": "LayoutModel",
       "_view_count": null,
       "_view_module": "@jupyter-widgets/base",
       "_view_module_version": "1.2.0",
       "_view_name": "LayoutView",
       "align_content": null,
       "align_items": null,
       "align_self": null,
       "border": null,
       "bottom": null,
       "display": null,
       "flex": null,
       "flex_flow": null,
       "grid_area": null,
       "grid_auto_columns": null,
       "grid_auto_flow": null,
       "grid_auto_rows": null,
       "grid_column": null,
       "grid_gap": null,
       "grid_row": null,
       "grid_template_areas": null,
       "grid_template_columns": null,
       "grid_template_rows": null,
       "height": null,
       "justify_content": null,
       "justify_items": null,
       "left": null,
       "margin": null,
       "max_height": null,
       "max_width": null,
       "min_height": null,
       "min_width": null,
       "object_fit": null,
       "object_position": null,
       "order": null,
       "overflow": null,
       "overflow_x": null,
       "overflow_y": null,
       "padding": null,
       "right": null,
       "top": null,
       "visibility": null,
       "width": null
      }
     },
     "7e087672f2dd4c6e94cca5db50c6eff7": {
      "model_module": "@jupyter-widgets/base",
      "model_module_version": "1.2.0",
      "model_name": "LayoutModel",
      "state": {
       "_model_module": "@jupyter-widgets/base",
       "_model_module_version": "1.2.0",
       "_model_name": "LayoutModel",
       "_view_count": null,
       "_view_module": "@jupyter-widgets/base",
       "_view_module_version": "1.2.0",
       "_view_name": "LayoutView",
       "align_content": null,
       "align_items": null,
       "align_self": null,
       "border": null,
       "bottom": null,
       "display": null,
       "flex": null,
       "flex_flow": null,
       "grid_area": null,
       "grid_auto_columns": null,
       "grid_auto_flow": null,
       "grid_auto_rows": null,
       "grid_column": null,
       "grid_gap": null,
       "grid_row": null,
       "grid_template_areas": null,
       "grid_template_columns": null,
       "grid_template_rows": null,
       "height": null,
       "justify_content": null,
       "justify_items": null,
       "left": null,
       "margin": null,
       "max_height": null,
       "max_width": null,
       "min_height": null,
       "min_width": null,
       "object_fit": null,
       "object_position": null,
       "order": null,
       "overflow": null,
       "overflow_x": null,
       "overflow_y": null,
       "padding": null,
       "right": null,
       "top": null,
       "visibility": null,
       "width": null
      }
     },
     "a0bb5e33f77e4201ab77637514d2bfc8": {
      "model_module": "@jupyter-widgets/controls",
      "model_module_version": "1.5.0",
      "model_name": "HTMLModel",
      "state": {
       "_dom_classes": [],
       "_model_module": "@jupyter-widgets/controls",
       "_model_module_version": "1.5.0",
       "_model_name": "HTMLModel",
       "_view_count": null,
       "_view_module": "@jupyter-widgets/controls",
       "_view_module_version": "1.5.0",
       "_view_name": "HTMLView",
       "description": "",
       "description_tooltip": null,
       "layout": "IPY_MODEL_76529c78a336447c8c6567168de287ab",
       "placeholder": "​",
       "style": "IPY_MODEL_2096db95d48f426cbcf213e29d67be83",
       "value": " 1/1 [00:09&lt;00:00,  9.24s/it]"
      }
     },
     "d27efb593d7d47299ab9f08e9e35c258": {
      "model_module": "@jupyter-widgets/base",
      "model_module_version": "1.2.0",
      "model_name": "LayoutModel",
      "state": {
       "_model_module": "@jupyter-widgets/base",
       "_model_module_version": "1.2.0",
       "_model_name": "LayoutModel",
       "_view_count": null,
       "_view_module": "@jupyter-widgets/base",
       "_view_module_version": "1.2.0",
       "_view_name": "LayoutView",
       "align_content": null,
       "align_items": null,
       "align_self": null,
       "border": null,
       "bottom": null,
       "display": null,
       "flex": null,
       "flex_flow": null,
       "grid_area": null,
       "grid_auto_columns": null,
       "grid_auto_flow": null,
       "grid_auto_rows": null,
       "grid_column": null,
       "grid_gap": null,
       "grid_row": null,
       "grid_template_areas": null,
       "grid_template_columns": null,
       "grid_template_rows": null,
       "height": null,
       "justify_content": null,
       "justify_items": null,
       "left": null,
       "margin": null,
       "max_height": null,
       "max_width": null,
       "min_height": null,
       "min_width": null,
       "object_fit": null,
       "object_position": null,
       "order": null,
       "overflow": null,
       "overflow_x": null,
       "overflow_y": null,
       "padding": null,
       "right": null,
       "top": null,
       "visibility": null,
       "width": null
      }
     },
     "dc099daa8be84bba8eb9de61170d4ada": {
      "model_module": "@jupyter-widgets/controls",
      "model_module_version": "1.5.0",
      "model_name": "FloatProgressModel",
      "state": {
       "_dom_classes": [],
       "_model_module": "@jupyter-widgets/controls",
       "_model_module_version": "1.5.0",
       "_model_name": "FloatProgressModel",
       "_view_count": null,
       "_view_module": "@jupyter-widgets/controls",
       "_view_module_version": "1.5.0",
       "_view_name": "ProgressView",
       "bar_style": "success",
       "description": "",
       "description_tooltip": null,
       "layout": "IPY_MODEL_5a0e6c26932240eb9be8a5c37777d9ed",
       "max": 1.0,
       "min": 0.0,
       "orientation": "horizontal",
       "style": "IPY_MODEL_58e5adf3199d44a9bb6ce1823644a6ca",
       "value": 1.0
      }
     },
     "e4d6cbbcc5ef4d33bb741ce15a011394": {
      "model_module": "@jupyter-widgets/controls",
      "model_module_version": "1.5.0",
      "model_name": "DescriptionStyleModel",
      "state": {
       "_model_module": "@jupyter-widgets/controls",
       "_model_module_version": "1.5.0",
       "_model_name": "DescriptionStyleModel",
       "_view_count": null,
       "_view_module": "@jupyter-widgets/base",
       "_view_module_version": "1.2.0",
       "_view_name": "StyleView",
       "description_width": ""
      }
     },
     "eb60a8cc9afc485aa58bbb7d8d9ab3dc": {
      "model_module": "@jupyter-widgets/controls",
      "model_module_version": "1.5.0",
      "model_name": "HBoxModel",
      "state": {
       "_dom_classes": [],
       "_model_module": "@jupyter-widgets/controls",
       "_model_module_version": "1.5.0",
       "_model_name": "HBoxModel",
       "_view_count": null,
       "_view_module": "@jupyter-widgets/controls",
       "_view_module_version": "1.5.0",
       "_view_name": "HBoxView",
       "box_style": "",
       "children": [
        "IPY_MODEL_626d96042bb647ad966c326e1f9ce846",
        "IPY_MODEL_dc099daa8be84bba8eb9de61170d4ada",
        "IPY_MODEL_a0bb5e33f77e4201ab77637514d2bfc8"
       ],
       "layout": "IPY_MODEL_d27efb593d7d47299ab9f08e9e35c258"
      }
     }
    },
    "version_major": 2,
    "version_minor": 0
   }
  }
 },
 "nbformat": 4,
 "nbformat_minor": 5
}
