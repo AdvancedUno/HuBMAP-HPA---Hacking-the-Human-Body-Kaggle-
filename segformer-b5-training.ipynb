{
 "cells": [
  {
   "cell_type": "code",
   "execution_count": 1,
   "id": "2240b6de",
   "metadata": {
    "execution": {
     "iopub.execute_input": "2022-09-07T13:18:47.010010Z",
     "iopub.status.busy": "2022-09-07T13:18:47.009164Z",
     "iopub.status.idle": "2022-09-07T13:19:46.285284Z",
     "shell.execute_reply": "2022-09-07T13:19:46.284039Z"
    },
    "papermill": {
     "duration": 59.28914,
     "end_time": "2022-09-07T13:19:46.288028",
     "exception": false,
     "start_time": "2022-09-07T13:18:46.998888",
     "status": "completed"
    },
    "tags": []
   },
   "outputs": [
    {
     "name": "stdout",
     "output_type": "stream",
     "text": [
      "Writing to /root/.config/pip/pip.conf\r\n",
      "\u001b[33mWARNING: Running pip as the 'root' user can result in broken permissions and conflicting behaviour with the system package manager. It is recommended to use a virtual environment instead: https://pip.pypa.io/warnings/venv\u001b[0m\u001b[33m\r\n",
      "\u001b[0m\u001b[33mWARNING: Running pip as the 'root' user can result in broken permissions and conflicting behaviour with the system package manager. It is recommended to use a virtual environment instead: https://pip.pypa.io/warnings/venv\u001b[0m\u001b[33m\r\n",
      "\u001b[0m\u001b[33mWARNING: Running pip as the 'root' user can result in broken permissions and conflicting behaviour with the system package manager. It is recommended to use a virtual environment instead: https://pip.pypa.io/warnings/venv\u001b[0m\u001b[33m\r\n",
      "\u001b[0m\u001b[33mWARNING: Running pip as the 'root' user can result in broken permissions and conflicting behaviour with the system package manager. It is recommended to use a virtual environment instead: https://pip.pypa.io/warnings/venv\u001b[0m\u001b[33m\r\n",
      "\u001b[0m\u001b[33mWARNING: Running pip as the 'root' user can result in broken permissions and conflicting behaviour with the system package manager. It is recommended to use a virtual environment instead: https://pip.pypa.io/warnings/venv\u001b[0m\u001b[33m\r\n",
      "\u001b[0m"
     ]
    }
   ],
   "source": [
    "!cp -r ../input/pytorch-segmentation-models-lib/ ./\n",
    "!cp -r ../input/torchmetrics/ ./\n",
    "\n",
    "!pip config set global.disable-pip-version-check true\n",
    "\n",
    "!pip install -q ./pytorch-segmentation-models-lib/pretrainedmodels-0.7.4/pretrainedmodels-0.7.4\n",
    "!pip install -q ./pytorch-segmentation-models-lib/efficientnet_pytorch-0.6.3/efficientnet_pytorch-0.6.3\n",
    "!pip install -q ./pytorch-segmentation-models-lib/timm-0.4.12-py3-none-any.whl\n",
    "!pip install -q ./pytorch-segmentation-models-lib/segmentation_models_pytorch-0.2.0-py3-none-any.whl\n",
    "!pip install -q ./torchmetrics/torchmetrics-0.9.1-py3-none-any.whl"
   ]
  },
  {
   "cell_type": "markdown",
   "id": "4326f856",
   "metadata": {
    "papermill": {
     "duration": 0.007187,
     "end_time": "2022-09-07T13:19:46.302927",
     "exception": false,
     "start_time": "2022-09-07T13:19:46.295740",
     "status": "completed"
    },
    "tags": []
   },
   "source": [
    "### https://arxiv.org/pdf/2105.15203.pdf"
   ]
  },
  {
   "cell_type": "markdown",
   "id": "567afaff",
   "metadata": {
    "papermill": {
     "duration": 0.00697,
     "end_time": "2022-09-07T13:19:46.317399",
     "exception": false,
     "start_time": "2022-09-07T13:19:46.310429",
     "status": "completed"
    },
    "tags": []
   },
   "source": [
    "## Library imports"
   ]
  },
  {
   "cell_type": "code",
   "execution_count": 2,
   "id": "323e927a",
   "metadata": {
    "execution": {
     "iopub.execute_input": "2022-09-07T13:19:46.334531Z",
     "iopub.status.busy": "2022-09-07T13:19:46.333500Z",
     "iopub.status.idle": "2022-09-07T13:19:54.358347Z",
     "shell.execute_reply": "2022-09-07T13:19:54.357219Z"
    },
    "papermill": {
     "duration": 8.03658,
     "end_time": "2022-09-07T13:19:54.361371",
     "exception": false,
     "start_time": "2022-09-07T13:19:46.324791",
     "status": "completed"
    },
    "tags": []
   },
   "outputs": [],
   "source": [
    "import pandas as pd\n",
    "import numpy as np\n",
    "\n",
    "import os\n",
    "import json\n",
    "from tqdm.auto import tqdm\n",
    "import gc\n",
    "\n",
    "from skimage import io\n",
    "from skimage.transform import resize\n",
    "\n",
    "import matplotlib.pyplot as plt\n",
    "\n",
    "import torch\n",
    "import torch.nn as nn\n",
    "import torch.nn.functional as F\n",
    "from torch.utils.data import Dataset, DataLoader\n",
    "import albumentations as A\n",
    "from albumentations.pytorch.transforms import ToTensorV2\n",
    "\n",
    "import pytorch_lightning as pl\n",
    "from pytorch_lightning import Trainer\n",
    "\n",
    "import segmentation_models_pytorch as smp\n",
    "from torchmetrics.functional import dice\n",
    "\n",
    "from sklearn.model_selection import KFold\n",
    "from sklearn.model_selection import train_test_split\n",
    "from operator import itemgetter \n",
    "import os\n",
    "os.environ['CUDA_LAUNCH_BLOCKING'] = \"1\"\n",
    "os.environ[\"CUDA_VISIBLE_DEVICES\"] = \"0\""
   ]
  },
  {
   "cell_type": "code",
   "execution_count": 3,
   "id": "0d07f842",
   "metadata": {
    "execution": {
     "iopub.execute_input": "2022-09-07T13:19:54.379313Z",
     "iopub.status.busy": "2022-09-07T13:19:54.378758Z",
     "iopub.status.idle": "2022-09-07T13:22:01.352156Z",
     "shell.execute_reply": "2022-09-07T13:22:01.351053Z"
    },
    "papermill": {
     "duration": 126.985319,
     "end_time": "2022-09-07T13:22:01.355064",
     "exception": false,
     "start_time": "2022-09-07T13:19:54.369745",
     "status": "completed"
    },
    "tags": []
   },
   "outputs": [
    {
     "name": "stdout",
     "output_type": "stream",
     "text": [
      "Collecting spams\r\n",
      "  Downloading spams-2.6.5.4.tar.gz (2.0 MB)\r\n",
      "\u001b[2K     \u001b[90m━━━━━━━━━━━━━━━━━━━━━━━━━━━━━━━━━━━━━━━━\u001b[0m \u001b[32m2.0/2.0 MB\u001b[0m \u001b[31m3.8 MB/s\u001b[0m eta \u001b[36m0:00:00\u001b[0m\r\n",
      "\u001b[?25h  Installing build dependencies ... \u001b[?25l-\b \b\\\b \b|\b \b/\b \b-\b \b\\\b \b|\b \b/\b \b-\b \b\\\b \bdone\r\n",
      "\u001b[?25h  Getting requirements to build wheel ... \u001b[?25l-\b \bdone\r\n",
      "\u001b[?25h  Preparing metadata (pyproject.toml) ... \u001b[?25l-\b \bdone\r\n",
      "\u001b[?25hRequirement already satisfied: scipy>=1.0 in /opt/conda/lib/python3.7/site-packages (from spams) (1.7.3)\r\n",
      "Requirement already satisfied: Pillow>=6.0 in /opt/conda/lib/python3.7/site-packages (from spams) (9.1.1)\r\n",
      "Requirement already satisfied: numpy>=1.12 in /opt/conda/lib/python3.7/site-packages (from spams) (1.21.6)\r\n",
      "Building wheels for collected packages: spams\r\n",
      "  Building wheel for spams (pyproject.toml) ... \u001b[?25l-\b \b\\\b \b|\b \bdone\r\n",
      "\u001b[?25h  Created wheel for spams: filename=spams-2.6.5.4-cp37-cp37m-linux_x86_64.whl size=4693805 sha256=bd61962c33153cdd5b6ce7b87fc57af5c8fbf0ad37b74ab511772aada4e67146\r\n",
      "  Stored in directory: /root/.cache/pip/wheels/5e/92/17/e718e0e26bfcdd7e81afcf874ac2bc599dd7dd7f3ad78f9d76\r\n",
      "Successfully built spams\r\n",
      "Installing collected packages: spams\r\n",
      "Successfully installed spams-2.6.5.4\r\n",
      "\u001b[33mWARNING: Running pip as the 'root' user can result in broken permissions and conflicting behaviour with the system package manager. It is recommended to use a virtual environment instead: https://pip.pypa.io/warnings/venv\u001b[0m\u001b[33m\r\n",
      "\u001b[0mCollecting staintools\r\n",
      "  Downloading staintools-2.1.2.tar.gz (7.0 kB)\r\n",
      "  Preparing metadata (setup.py) ... \u001b[?25l-\b \bdone\r\n",
      "\u001b[?25hRequirement already satisfied: numpy in /opt/conda/lib/python3.7/site-packages (from staintools) (1.21.6)\r\n",
      "Requirement already satisfied: matplotlib in /opt/conda/lib/python3.7/site-packages (from staintools) (3.5.2)\r\n",
      "Requirement already satisfied: opencv-python in /opt/conda/lib/python3.7/site-packages (from staintools) (4.5.4.60)\r\n",
      "Requirement already satisfied: cycler>=0.10 in /opt/conda/lib/python3.7/site-packages (from matplotlib->staintools) (0.11.0)\r\n",
      "Requirement already satisfied: kiwisolver>=1.0.1 in /opt/conda/lib/python3.7/site-packages (from matplotlib->staintools) (1.4.3)\r\n",
      "Requirement already satisfied: packaging>=20.0 in /opt/conda/lib/python3.7/site-packages (from matplotlib->staintools) (21.3)\r\n",
      "Requirement already satisfied: fonttools>=4.22.0 in /opt/conda/lib/python3.7/site-packages (from matplotlib->staintools) (4.33.3)\r\n",
      "Requirement already satisfied: pillow>=6.2.0 in /opt/conda/lib/python3.7/site-packages (from matplotlib->staintools) (9.1.1)\r\n",
      "Requirement already satisfied: pyparsing>=2.2.1 in /opt/conda/lib/python3.7/site-packages (from matplotlib->staintools) (3.0.9)\r\n",
      "Requirement already satisfied: python-dateutil>=2.7 in /opt/conda/lib/python3.7/site-packages (from matplotlib->staintools) (2.8.2)\r\n",
      "Requirement already satisfied: typing-extensions in /opt/conda/lib/python3.7/site-packages (from kiwisolver>=1.0.1->matplotlib->staintools) (4.1.1)\r\n",
      "Requirement already satisfied: six>=1.5 in /opt/conda/lib/python3.7/site-packages (from python-dateutil>=2.7->matplotlib->staintools) (1.16.0)\r\n",
      "Building wheels for collected packages: staintools\r\n",
      "  Building wheel for staintools (setup.py) ... \u001b[?25l-\b \b\\\b \bdone\r\n",
      "\u001b[?25h  Created wheel for staintools: filename=staintools-2.1.2-py3-none-any.whl size=14075 sha256=2b9ee96b022ffdf1ee799c70c221c08130088f86f4613166734b13705e563c83\r\n",
      "  Stored in directory: /root/.cache/pip/wheels/9b/ed/74/9d36d40854e911d8e2d2d28d7b67e37e9f176f913ecf34f813\r\n",
      "Successfully built staintools\r\n",
      "Installing collected packages: staintools\r\n",
      "Successfully installed staintools-2.1.2\r\n",
      "\u001b[33mWARNING: Running pip as the 'root' user can result in broken permissions and conflicting behaviour with the system package manager. It is recommended to use a virtual environment instead: https://pip.pypa.io/warnings/venv\u001b[0m\u001b[33m\r\n",
      "\u001b[0m"
     ]
    }
   ],
   "source": [
    "\n",
    "!pip install spams\n",
    "!pip install staintools\n",
    "\n",
    "import pathlib\n",
    "import numpy as np\n",
    "import cv2\n",
    "import tifffile\n",
    "import matplotlib.pyplot as plt\n",
    "import staintools\n",
    "\n",
    "import gc\n",
    "\n",
    "import torch\n",
    "import torch.nn as nn\n",
    "import torch.nn.functional as F\n",
    "from torch.utils.data import Dataset, DataLoader\n",
    "import albumentations as A\n",
    "from albumentations.pytorch.transforms import ToTensorV2\n",
    "\n",
    "import pytorch_lightning as pl\n",
    "from pytorch_lightning import Trainer\n",
    "\n",
    "import segmentation_models_pytorch as smp\n",
    "from torchmetrics.functional import dice\n",
    "\n",
    "\n",
    "from operator import itemgetter \n",
    "\n",
    "import pandas as pd\n",
    "from transformers import BertTokenizer, BertModel\n",
    "from torch.optim import lr_scheduler\n",
    "from torch import nn\n",
    "from torch.optim import Adam\n",
    "from tqdm.notebook import tqdm"
   ]
  },
  {
   "cell_type": "code",
   "execution_count": 4,
   "id": "345feff0",
   "metadata": {
    "execution": {
     "iopub.execute_input": "2022-09-07T13:22:01.378337Z",
     "iopub.status.busy": "2022-09-07T13:22:01.377966Z",
     "iopub.status.idle": "2022-09-07T13:22:01.385277Z",
     "shell.execute_reply": "2022-09-07T13:22:01.384176Z"
    },
    "papermill": {
     "duration": 0.021112,
     "end_time": "2022-09-07T13:22:01.387756",
     "exception": false,
     "start_time": "2022-09-07T13:22:01.366644",
     "status": "completed"
    },
    "tags": []
   },
   "outputs": [],
   "source": [
    "imaging_measurements = {\n",
    "    'hpa': {\n",
    "        'pixel_size': {\n",
    "            'kidney': 0.4,\n",
    "            'prostate': 0.4,\n",
    "            'largeintestine': 0.4,\n",
    "            'spleen': 0.4,\n",
    "            'lung': 0.4\n",
    "        },\n",
    "        'tissue_thickness': {\n",
    "            'kidney': 4,\n",
    "            'prostate': 4,\n",
    "            'largeintestine': 4,\n",
    "            'spleen': 4,\n",
    "            'lung': 4\n",
    "        }\n",
    "    },\n",
    "    'hubmap': {\n",
    "        'pixel_size': {\n",
    "            'kidney': 0.5,\n",
    "            'prostate': 6.263,\n",
    "            'largeintestine': 0.229,\n",
    "            'spleen': 0.4945,\n",
    "            'lung': 0.7562\n",
    "        },\n",
    "        'tissue_thickness': {\n",
    "        'kidney': 10,\n",
    "            'prostate': 5,\n",
    "            'largeintestine': 8,\n",
    "            'spleen': 4,\n",
    "            'lung': 5\n",
    "        }\n",
    "    }\n",
    "}"
   ]
  },
  {
   "cell_type": "code",
   "execution_count": 5,
   "id": "584a6b5d",
   "metadata": {
    "execution": {
     "iopub.execute_input": "2022-09-07T13:22:01.409007Z",
     "iopub.status.busy": "2022-09-07T13:22:01.408659Z",
     "iopub.status.idle": "2022-09-07T13:22:01.420863Z",
     "shell.execute_reply": "2022-09-07T13:22:01.419921Z"
    },
    "papermill": {
     "duration": 0.025365,
     "end_time": "2022-09-07T13:22:01.423001",
     "exception": false,
     "start_time": "2022-09-07T13:22:01.397636",
     "status": "completed"
    },
    "tags": []
   },
   "outputs": [],
   "source": [
    "def augment_image(image, domain_pixel_size, target_pixel_size, domain_tissue_thickness, target_tissue_thickness, alpha=0.15):\n",
    "    \n",
    "    \n",
    "    # Augment tissue thickness\n",
    "    tissue_thickness_scale_factor = target_tissue_thickness - domain_tissue_thickness\n",
    "    image_hsv = cv2.cvtColor(image, cv2.COLOR_RGB2HSV).astype(np.float32)\n",
    "    image_hsv[:, :, 1] *= (1 + (alpha * tissue_thickness_scale_factor))\n",
    "    image_hsv[:, :, 2] *= (1 - (alpha * tissue_thickness_scale_factor))\n",
    "    image_hsv = image_hsv.astype(np.uint8)\n",
    "    image_scaled = cv2.cvtColor(image_hsv, cv2.COLOR_HSV2RGB)\n",
    "    \n",
    "    # Standardize luminosity\n",
    "    image_scaled = staintools.LuminosityStandardizer.standardize(image_scaled)\n",
    "\n",
    "    # Augment pixel size\n",
    "    pixel_size_scale_factor = domain_pixel_size / target_pixel_size\n",
    "    image_resized = cv2.resize(\n",
    "        image_scaled,\n",
    "        dsize=None,\n",
    "        fx=pixel_size_scale_factor,\n",
    "        fy=pixel_size_scale_factor,\n",
    "        interpolation=cv2.INTER_CUBIC\n",
    "    )\n",
    "    \n",
    "    image_resized = cv2.resize(\n",
    "        image_resized,\n",
    "        dsize=(\n",
    "            image.shape[1],\n",
    "            image.shape[0]\n",
    "        ),\n",
    "        interpolation=cv2.INTER_CUBIC\n",
    "    )\n",
    "    \n",
    "    # Standardize luminosity\n",
    "    \n",
    "    from random import randrange\n",
    "    num = randrange(10)\n",
    "    \n",
    "    \n",
    "    \n",
    "    image = staintools.LuminosityStandardizer.standardize(image)\n",
    "    image_augmented = staintools.LuminosityStandardizer.standardize(image_resized)\n",
    "    \n",
    "    returnImage = image\n",
    "    if(num <5):\n",
    "        returnImage = image_augmented\n",
    "    \n",
    "    del image_scaled\n",
    "    del image_resized\n",
    "    del image\n",
    "    del image_augmented\n",
    "    del image_hsv\n",
    "    gc.collect()\n",
    "    \n",
    "    return returnImage"
   ]
  },
  {
   "cell_type": "markdown",
   "id": "12ba5f06",
   "metadata": {
    "papermill": {
     "duration": 0.009495,
     "end_time": "2022-09-07T13:22:01.442706",
     "exception": false,
     "start_time": "2022-09-07T13:22:01.433211",
     "status": "completed"
    },
    "tags": []
   },
   "source": [
    "### Paths definition"
   ]
  },
  {
   "cell_type": "code",
   "execution_count": 6,
   "id": "2ce8aee2",
   "metadata": {
    "execution": {
     "iopub.execute_input": "2022-09-07T13:22:01.464247Z",
     "iopub.status.busy": "2022-09-07T13:22:01.463888Z",
     "iopub.status.idle": "2022-09-07T13:22:01.469001Z",
     "shell.execute_reply": "2022-09-07T13:22:01.467985Z"
    },
    "papermill": {
     "duration": 0.0187,
     "end_time": "2022-09-07T13:22:01.471274",
     "exception": false,
     "start_time": "2022-09-07T13:22:01.452574",
     "status": "completed"
    },
    "tags": []
   },
   "outputs": [],
   "source": [
    "TRAIN_IMG_PATH = \"../input/hubmap-organ-segmentation/train_images\"\n",
    "TEST_IMG_PATH = \"../input/hubmap-organ-segmentation/test_images\"\n",
    "\n",
    "TRAIN_IMG_ANNOTATIONS = \"../input/hubmap-organ-segmentation/train_annotations\"\n",
    "TRAIN_IMG_INFO = \"../input/hubmap-organ-segmentation/train.csv\""
   ]
  },
  {
   "cell_type": "markdown",
   "id": "73f2d8ac",
   "metadata": {
    "papermill": {
     "duration": 0.009647,
     "end_time": "2022-09-07T13:22:01.490489",
     "exception": false,
     "start_time": "2022-09-07T13:22:01.480842",
     "status": "completed"
    },
    "tags": []
   },
   "source": [
    "### Auxiliary functions"
   ]
  },
  {
   "cell_type": "code",
   "execution_count": 7,
   "id": "05be7ca8",
   "metadata": {
    "execution": {
     "iopub.execute_input": "2022-09-07T13:22:01.511768Z",
     "iopub.status.busy": "2022-09-07T13:22:01.511367Z",
     "iopub.status.idle": "2022-09-07T13:22:01.520875Z",
     "shell.execute_reply": "2022-09-07T13:22:01.519872Z"
    },
    "papermill": {
     "duration": 0.02237,
     "end_time": "2022-09-07T13:22:01.522853",
     "exception": false,
     "start_time": "2022-09-07T13:22:01.500483",
     "status": "completed"
    },
    "tags": []
   },
   "outputs": [],
   "source": [
    "def rle2mask(mask_rle: str, shape=None, label: int = 0):\n",
    "    \"\"\"\n",
    "    mask_rle: run-length as string formatted (start length)\n",
    "    shape: (height,width) of array to return\n",
    "    Returns numpy array, 1 - mask, 0 - background\n",
    "\n",
    "    \"\"\"\n",
    "    rle = np.array(list(map(int, mask_rle.split())))\n",
    "    labels = np.zeros(shape).flatten()\n",
    "    \n",
    "    for start, end in zip(rle[::2], rle[1::2]):\n",
    "        labels[start:start+end] = label\n",
    "\n",
    "    return labels.reshape(shape).T  # Needed to align to RLE direction\n",
    "\n",
    "\n",
    "def mask_to_rle(mask):\n",
    "    #Rescale image to original size\n",
    "    size = int(len(mask.flatten())**.5)\n",
    "    n = Image.fromarray(mask.reshape((size, size))*255.0)\n",
    "    n = np.array(n).astype(np.float32)\n",
    "    #Get pixels to flatten\n",
    "    pixels = n.T.flatten()\n",
    "    #Round the pixels using the half of the range of pixel value\n",
    "    pixels = (pixels-min(pixels) > ((max(pixels)-min(pixels))/2)).astype(int)\n",
    "    pixels = np.nan_to_num(pixels) #incase of zero-div-error\n",
    "    \n",
    "    pixels = np.concatenate([[0], pixels, [0]])\n",
    "    runs = np.where(pixels[1:] != pixels[:-1])[0]\n",
    "    runs[1::2] -= runs[::2]\n",
    "    \n",
    "    return ' '.join(str(x) for x in runs)"
   ]
  },
  {
   "cell_type": "markdown",
   "id": "52cfc3f5",
   "metadata": {
    "papermill": {
     "duration": 0.009602,
     "end_time": "2022-09-07T13:22:01.542972",
     "exception": false,
     "start_time": "2022-09-07T13:22:01.533370",
     "status": "completed"
    },
    "tags": []
   },
   "source": [
    "### Reading training dataframe"
   ]
  },
  {
   "cell_type": "code",
   "execution_count": 8,
   "id": "5f6a3c06",
   "metadata": {
    "execution": {
     "iopub.execute_input": "2022-09-07T13:22:01.565083Z",
     "iopub.status.busy": "2022-09-07T13:22:01.563982Z",
     "iopub.status.idle": "2022-09-07T13:22:01.951728Z",
     "shell.execute_reply": "2022-09-07T13:22:01.950604Z"
    },
    "papermill": {
     "duration": 0.401361,
     "end_time": "2022-09-07T13:22:01.954408",
     "exception": false,
     "start_time": "2022-09-07T13:22:01.553047",
     "status": "completed"
    },
    "tags": []
   },
   "outputs": [],
   "source": [
    "df_train = pd.read_csv(TRAIN_IMG_INFO)"
   ]
  },
  {
   "cell_type": "code",
   "execution_count": 9,
   "id": "312ffef3",
   "metadata": {
    "execution": {
     "iopub.execute_input": "2022-09-07T13:22:01.978852Z",
     "iopub.status.busy": "2022-09-07T13:22:01.977974Z",
     "iopub.status.idle": "2022-09-07T13:22:02.004346Z",
     "shell.execute_reply": "2022-09-07T13:22:02.003097Z"
    },
    "papermill": {
     "duration": 0.042555,
     "end_time": "2022-09-07T13:22:02.007747",
     "exception": false,
     "start_time": "2022-09-07T13:22:01.965192",
     "status": "completed"
    },
    "tags": []
   },
   "outputs": [
    {
     "data": {
      "text/html": [
       "<div>\n",
       "<style scoped>\n",
       "    .dataframe tbody tr th:only-of-type {\n",
       "        vertical-align: middle;\n",
       "    }\n",
       "\n",
       "    .dataframe tbody tr th {\n",
       "        vertical-align: top;\n",
       "    }\n",
       "\n",
       "    .dataframe thead th {\n",
       "        text-align: right;\n",
       "    }\n",
       "</style>\n",
       "<table border=\"1\" class=\"dataframe\">\n",
       "  <thead>\n",
       "    <tr style=\"text-align: right;\">\n",
       "      <th></th>\n",
       "      <th>id</th>\n",
       "      <th>organ</th>\n",
       "      <th>data_source</th>\n",
       "      <th>img_height</th>\n",
       "      <th>img_width</th>\n",
       "      <th>pixel_size</th>\n",
       "      <th>tissue_thickness</th>\n",
       "      <th>rle</th>\n",
       "      <th>age</th>\n",
       "      <th>sex</th>\n",
       "    </tr>\n",
       "  </thead>\n",
       "  <tbody>\n",
       "    <tr>\n",
       "      <th>0</th>\n",
       "      <td>10044</td>\n",
       "      <td>prostate</td>\n",
       "      <td>HPA</td>\n",
       "      <td>3000</td>\n",
       "      <td>3000</td>\n",
       "      <td>0.4</td>\n",
       "      <td>4</td>\n",
       "      <td>1459676 77 1462675 82 1465674 87 1468673 92 14...</td>\n",
       "      <td>37.0</td>\n",
       "      <td>Male</td>\n",
       "    </tr>\n",
       "    <tr>\n",
       "      <th>1</th>\n",
       "      <td>10274</td>\n",
       "      <td>prostate</td>\n",
       "      <td>HPA</td>\n",
       "      <td>3000</td>\n",
       "      <td>3000</td>\n",
       "      <td>0.4</td>\n",
       "      <td>4</td>\n",
       "      <td>715707 2 718705 8 721703 11 724701 18 727692 3...</td>\n",
       "      <td>76.0</td>\n",
       "      <td>Male</td>\n",
       "    </tr>\n",
       "  </tbody>\n",
       "</table>\n",
       "</div>"
      ],
      "text/plain": [
       "      id     organ data_source  img_height  img_width  pixel_size  \\\n",
       "0  10044  prostate         HPA        3000       3000         0.4   \n",
       "1  10274  prostate         HPA        3000       3000         0.4   \n",
       "\n",
       "   tissue_thickness                                                rle   age  \\\n",
       "0                 4  1459676 77 1462675 82 1465674 87 1468673 92 14...  37.0   \n",
       "1                 4  715707 2 718705 8 721703 11 724701 18 727692 3...  76.0   \n",
       "\n",
       "    sex  \n",
       "0  Male  \n",
       "1  Male  "
      ]
     },
     "execution_count": 9,
     "metadata": {},
     "output_type": "execute_result"
    }
   ],
   "source": [
    "df_train.head(2)"
   ]
  },
  {
   "cell_type": "code",
   "execution_count": 10,
   "id": "b4afc306",
   "metadata": {
    "execution": {
     "iopub.execute_input": "2022-09-07T13:22:02.033130Z",
     "iopub.status.busy": "2022-09-07T13:22:02.032720Z",
     "iopub.status.idle": "2022-09-07T13:22:02.043486Z",
     "shell.execute_reply": "2022-09-07T13:22:02.042185Z"
    },
    "papermill": {
     "duration": 0.026487,
     "end_time": "2022-09-07T13:22:02.046469",
     "exception": false,
     "start_time": "2022-09-07T13:22:02.019982",
     "status": "completed"
    },
    "tags": []
   },
   "outputs": [],
   "source": [
    "organs = df_train['organ'].unique()"
   ]
  },
  {
   "cell_type": "code",
   "execution_count": 11,
   "id": "01afcc1c",
   "metadata": {
    "execution": {
     "iopub.execute_input": "2022-09-07T13:22:02.070092Z",
     "iopub.status.busy": "2022-09-07T13:22:02.069492Z",
     "iopub.status.idle": "2022-09-07T13:22:02.076750Z",
     "shell.execute_reply": "2022-09-07T13:22:02.075676Z"
    },
    "papermill": {
     "duration": 0.022028,
     "end_time": "2022-09-07T13:22:02.079826",
     "exception": false,
     "start_time": "2022-09-07T13:22:02.057798",
     "status": "completed"
    },
    "tags": []
   },
   "outputs": [
    {
     "data": {
      "text/plain": [
       "{'prostate': 1, 'spleen': 2, 'lung': 3, 'kidney': 4, 'largeintestine': 5}"
      ]
     },
     "execution_count": 11,
     "metadata": {},
     "output_type": "execute_result"
    }
   ],
   "source": [
    "organ_annotations = {}\n",
    "\n",
    "for i, organ in enumerate(organs):\n",
    "    organ_annotations[organ] = i+1\n",
    "    \n",
    "organ_annotations"
   ]
  },
  {
   "cell_type": "markdown",
   "id": "660ddc1b",
   "metadata": {
    "papermill": {
     "duration": 0.010163,
     "end_time": "2022-09-07T13:22:02.100225",
     "exception": false,
     "start_time": "2022-09-07T13:22:02.090062",
     "status": "completed"
    },
    "tags": []
   },
   "source": [
    "### Network training config"
   ]
  },
  {
   "cell_type": "code",
   "execution_count": 12,
   "id": "d937f9b7",
   "metadata": {
    "execution": {
     "iopub.execute_input": "2022-09-07T13:22:02.122127Z",
     "iopub.status.busy": "2022-09-07T13:22:02.121760Z",
     "iopub.status.idle": "2022-09-07T13:22:02.126359Z",
     "shell.execute_reply": "2022-09-07T13:22:02.125370Z"
    },
    "papermill": {
     "duration": 0.018019,
     "end_time": "2022-09-07T13:22:02.128546",
     "exception": false,
     "start_time": "2022-09-07T13:22:02.110527",
     "status": "completed"
    },
    "tags": []
   },
   "outputs": [],
   "source": [
    "class Config:\n",
    "    BATCH_SIZE = 4\n",
    "    EPOCHS = 6"
   ]
  },
  {
   "cell_type": "markdown",
   "id": "a83f0bf5",
   "metadata": {
    "papermill": {
     "duration": 0.01018,
     "end_time": "2022-09-07T13:22:02.148614",
     "exception": false,
     "start_time": "2022-09-07T13:22:02.138434",
     "status": "completed"
    },
    "tags": []
   },
   "source": [
    "### Scheduler"
   ]
  },
  {
   "cell_type": "code",
   "execution_count": 13,
   "id": "0e6800af",
   "metadata": {
    "execution": {
     "iopub.execute_input": "2022-09-07T13:22:02.170680Z",
     "iopub.status.busy": "2022-09-07T13:22:02.169686Z",
     "iopub.status.idle": "2022-09-07T13:22:02.181525Z",
     "shell.execute_reply": "2022-09-07T13:22:02.180649Z"
    },
    "papermill": {
     "duration": 0.025235,
     "end_time": "2022-09-07T13:22:02.183733",
     "exception": false,
     "start_time": "2022-09-07T13:22:02.158498",
     "status": "completed"
    },
    "tags": []
   },
   "outputs": [],
   "source": [
    "class PeakScheduler(torch.optim.lr_scheduler._LRScheduler):\n",
    "        def __init__(\n",
    "                self, optimizer,\n",
    "                epoch_size=-1,\n",
    "                lr_start   = 0.000001,\n",
    "                lr_max     = 0.000005 * Config.BATCH_SIZE,\n",
    "                lr_min     = 0.000001,\n",
    "                lr_ramp_ep = 4,\n",
    "                lr_sus_ep  = 0,\n",
    "                lr_decay   = 0.8,\n",
    "                verbose = True\n",
    "            ):\n",
    "            self.epoch_size = epoch_size\n",
    "            self.optimizer= optimizer\n",
    "            self.lr_start = lr_start\n",
    "            self.lr_max = lr_max\n",
    "            self.lr_min = lr_min\n",
    "            self.lr_ramp_ep = lr_ramp_ep\n",
    "            self.lr_sus_ep = lr_sus_ep\n",
    "            self.lr_decay = lr_decay\n",
    "            self.is_plotting = True\n",
    "            \n",
    "            epochs = list(range(Config.EPOCHS))\n",
    "            learning_rates = []\n",
    "            for i in epochs:\n",
    "                self.epoch = i\n",
    "                learning_rates.append(self.get_lr())\n",
    "            self.is_plotting = False\n",
    "            self.epoch = 0\n",
    "            plt.scatter(epochs,learning_rates)\n",
    "            plt.show()\n",
    "            super(PeakScheduler, self).__init__(optimizer, verbose=verbose)\n",
    "\n",
    "        def get_lr(self):\n",
    "            if not self.is_plotting:\n",
    "                if self.epoch_size == -1:\n",
    "                    self.epoch = self._step_count - 1\n",
    "                else:\n",
    "                    self.epoch = (self._step_count - 1) / self.epoch_size\n",
    "                    \n",
    "            if self.epoch < self.lr_ramp_ep:\n",
    "                lr = (self.lr_max - self.lr_start) / self.lr_ramp_ep * self.epoch + self.lr_start\n",
    "\n",
    "            elif self.epoch < self.lr_ramp_ep + self.lr_sus_ep:\n",
    "                lr = self.lr_max\n",
    "            else:\n",
    "                lr = (self.lr_max - self.lr_min) * self.lr_decay**(self.epoch - self.lr_ramp_ep - self.lr_sus_ep) + self.lr_min\n",
    "            return [lr for _ in self.optimizer.param_groups]\n"
   ]
  },
  {
   "cell_type": "markdown",
   "id": "410a8694",
   "metadata": {
    "papermill": {
     "duration": 0.010489,
     "end_time": "2022-09-07T13:22:02.205301",
     "exception": false,
     "start_time": "2022-09-07T13:22:02.194812",
     "status": "completed"
    },
    "tags": []
   },
   "source": [
    "## Hugging face model"
   ]
  },
  {
   "cell_type": "code",
   "execution_count": 14,
   "id": "7b0acbf4",
   "metadata": {
    "execution": {
     "iopub.execute_input": "2022-09-07T13:22:02.228094Z",
     "iopub.status.busy": "2022-09-07T13:22:02.226990Z",
     "iopub.status.idle": "2022-09-07T13:22:02.236093Z",
     "shell.execute_reply": "2022-09-07T13:22:02.235162Z"
    },
    "papermill": {
     "duration": 0.022865,
     "end_time": "2022-09-07T13:22:02.238408",
     "exception": false,
     "start_time": "2022-09-07T13:22:02.215543",
     "status": "completed"
    },
    "tags": []
   },
   "outputs": [],
   "source": [
    "from transformers import SegformerForSemanticSegmentation"
   ]
  },
  {
   "cell_type": "code",
   "execution_count": 15,
   "id": "c7380967",
   "metadata": {
    "execution": {
     "iopub.execute_input": "2022-09-07T13:22:02.261517Z",
     "iopub.status.busy": "2022-09-07T13:22:02.260494Z",
     "iopub.status.idle": "2022-09-07T13:22:02.397303Z",
     "shell.execute_reply": "2022-09-07T13:22:02.396196Z"
    },
    "papermill": {
     "duration": 0.155181,
     "end_time": "2022-09-07T13:22:02.403884",
     "exception": false,
     "start_time": "2022-09-07T13:22:02.248703",
     "status": "completed"
    },
    "tags": []
   },
   "outputs": [
    {
     "data": {
      "application/vnd.jupyter.widget-view+json": {
       "model_id": "24fa45a0103b4cc0b68fe06550910a10",
       "version_major": 2,
       "version_minor": 0
      },
      "text/plain": [
       "  0%|          | 0/351 [00:00<?, ?it/s]"
      ]
     },
     "metadata": {},
     "output_type": "display_data"
    }
   ],
   "source": [
    "from PIL import Image\n",
    "\n",
    "imgs = []\n",
    "\n",
    "for i, img in enumerate(tqdm(os.listdir(TRAIN_IMG_PATH))):\n",
    "    \n",
    "    imgs.append(os.path.join(TRAIN_IMG_PATH, img))"
   ]
  },
  {
   "cell_type": "code",
   "execution_count": 16,
   "id": "f3dc25b4",
   "metadata": {
    "execution": {
     "iopub.execute_input": "2022-09-07T13:22:02.430116Z",
     "iopub.status.busy": "2022-09-07T13:22:02.429549Z",
     "iopub.status.idle": "2022-09-07T13:22:02.447401Z",
     "shell.execute_reply": "2022-09-07T13:22:02.446390Z"
    },
    "papermill": {
     "duration": 0.033748,
     "end_time": "2022-09-07T13:22:02.449719",
     "exception": false,
     "start_time": "2022-09-07T13:22:02.415971",
     "status": "completed"
    },
    "tags": []
   },
   "outputs": [],
   "source": [
    "img_size = 512\n",
    "\n",
    "class CustomDataset(Dataset):\n",
    "    def __init__(self, imgs, df, stage):\n",
    "        self.imgs = imgs\n",
    "        \n",
    "        self.df = df\n",
    "        #print(df)\n",
    "        #print(df[df['id'] == 28052]['rle'].values[0])\n",
    "        mean=[196.869/255, 190.186/255, 194.802/255],\n",
    "        std=[63.01/255, 66.765/255, 65.745/255],\n",
    "        if stage == 'train':\n",
    "            self.transforms = A.Compose([\n",
    "                A.augmentations.crops.RandomResizedCrop(height=img_size, width=img_size),\n",
    "                A.augmentations.Rotate(limit=90, p=0.5),\n",
    "                A.augmentations.HorizontalFlip(p=0.5),\n",
    "                A.augmentations.VerticalFlip(p=0.5),\n",
    "                A.augmentations.transforms.ColorJitter(p=0.5),\n",
    "            \n",
    "                A.OneOf([\n",
    "                    A.HueSaturationValue(10, 15, 10),\n",
    "                    A.CLAHE(clip_limit=4),\n",
    "                    A.RandomBrightnessContrast(),            \n",
    "                ], p=0.5),                \n",
    "                A.Normalize(mean=mean, std=std, max_pixel_value=255),\n",
    "            ])\n",
    "        else:\n",
    "            self.transforms = A.Compose([\n",
    "                A.Resize(img_size, img_size),\n",
    "                A.Normalize(mean=mean, std=std, max_pixel_value=255),\n",
    "            ])\n",
    "            \n",
    "        \n",
    "        \n",
    "    def __len__(self):\n",
    "        return len(self.imgs)\n",
    "    \n",
    "    def __getitem__(self, idx):\n",
    "        \n",
    "        \n",
    "        img = self.imgs[idx]\n",
    "        img_number = int(img.split(\"/\")[-1].split(\".\")[0])\n",
    "        rle = self.df[self.df['id'] == img_number]['rle'].values[0]\n",
    "        height = self.df[self.df['id'] == img_number]['img_height'].values[0]\n",
    "        width = self.df[self.df['id'] == img_number]['img_width'].values[0]\n",
    "        organ = self.df[self.df['id'] == img_number]['organ'].values[0]\n",
    "        \n",
    "        \n",
    "        \n",
    "        img = np.asarray(Image.open(img))\n",
    "        \n",
    "        image_augmented = augment_image(\n",
    "            image=img,\n",
    "            domain_pixel_size= imaging_measurements['hpa']['pixel_size'][organ],\n",
    "            target_pixel_size=imaging_measurements['hubmap']['pixel_size'][organ],\n",
    "            domain_tissue_thickness=imaging_measurements['hpa']['tissue_thickness'][organ],\n",
    "            target_tissue_thickness=imaging_measurements['hubmap']['tissue_thickness'][organ]\n",
    "        )\n",
    "     \n",
    "        img = image_augmented\n",
    "        \n",
    "        \n",
    "        \n",
    "        \n",
    "        mask = rle2mask(rle, shape=(height, width), label=organ_annotations[organ])\n",
    "        \n",
    "        transformed = self.transforms(image=img, mask=np.expand_dims(mask, axis=2))\n",
    "        \n",
    "        del mask\n",
    "        del image_augmented\n",
    "        del img\n",
    "        gc.collect()\n",
    "        \n",
    "        return np.transpose(transformed['image'], (2, 0, 1)).astype(np.float32), np.squeeze(transformed['mask'], 2).astype(np.int16)"
   ]
  },
  {
   "cell_type": "code",
   "execution_count": 17,
   "id": "c569d7e1",
   "metadata": {
    "execution": {
     "iopub.execute_input": "2022-09-07T13:22:02.476061Z",
     "iopub.status.busy": "2022-09-07T13:22:02.475165Z",
     "iopub.status.idle": "2022-09-07T13:22:02.492880Z",
     "shell.execute_reply": "2022-09-07T13:22:02.491700Z"
    },
    "papermill": {
     "duration": 0.033943,
     "end_time": "2022-09-07T13:22:02.495290",
     "exception": false,
     "start_time": "2022-09-07T13:22:02.461347",
     "status": "completed"
    },
    "tags": []
   },
   "outputs": [],
   "source": [
    "class SegmentationModel(pl.LightningModule):\n",
    "    def __init__(\n",
    "        self,\n",
    "        model\n",
    "        ):\n",
    "        super(SegmentationModel, self).__init__()\n",
    "        \n",
    "        self.model = model\n",
    "        \n",
    "        \n",
    "    def forward(self, image):\n",
    "        outputs = self.model(pixel_values=image)\n",
    "        \n",
    "        upsampled_logits = nn.functional.interpolate(\n",
    "            outputs.logits,\n",
    "            size=mask.shape[-2:], \n",
    "            mode=\"bilinear\",\n",
    "            align_corners=False\n",
    "        )\n",
    "#         del outputs\n",
    "#         del image\n",
    "        gc.collect()\n",
    "        \n",
    "        return upsampled_logits\n",
    "        \n",
    "\n",
    "    def training_step(self, batch, batch_idx):\n",
    "        image, mask = batch[0], batch[1]\n",
    "        outputs = self.model(pixel_values=image, labels=mask.long())\n",
    "        \n",
    "        upsampled_logits = nn.functional.interpolate(\n",
    "            outputs.logits,\n",
    "            size=mask.shape[-2:], \n",
    "            mode=\"bilinear\",\n",
    "            align_corners=False\n",
    "        )\n",
    "        \n",
    "        loss = outputs.loss\n",
    "        \n",
    "#         del outputs\n",
    "#         del image\n",
    "        gc.collect()\n",
    "        \n",
    "        return {'loss': loss, 'logits_mask': upsampled_logits, 'mask': mask}\n",
    "    \n",
    "#     def training_epoch_end(self, outputs):\n",
    "#         loss = [item['loss'].item() for item in outputs]\n",
    "#         logits_mask = torch.cat([item['logits_mask'].cpu() for item in outputs]).softmax(1)\n",
    "#         mask = torch.cat([item['mask'].cpu() for item in outputs])\n",
    "        \n",
    "#         pred_mask = logits_mask.argmax(dim=1).float()\n",
    "        \n",
    "#         dice_score = dice(\n",
    "#             logits_mask, \n",
    "#             mask\n",
    "#         ).item()\n",
    "        \n",
    "#         log_parameters = {\n",
    "#             \"loss_train\": np.mean(loss),\n",
    "#             \"dice_score_train\": dice_score\n",
    "#         }\n",
    "        \n",
    "#         print(log_parameters)\n",
    "        \n",
    "#         del outputs\n",
    "#         gc.collect()\n",
    "        \n",
    "#         self.log_dict(log_parameters)\n",
    "    \n",
    "    def validation_step(self, batch, batch_idx):\n",
    "        image, mask = batch[0], batch[1]\n",
    "        outputs = self.model(pixel_values=image, labels=mask.long())\n",
    "        \n",
    "        upsampled_logits = nn.functional.interpolate(\n",
    "            outputs.logits,\n",
    "            size=mask.shape[-2:], \n",
    "            mode=\"bilinear\",\n",
    "            align_corners=False\n",
    "        )\n",
    "        \n",
    "        loss = outputs.loss\n",
    "        \n",
    "        del outputs\n",
    "        del image\n",
    "        gc.collect()\n",
    "        \n",
    "        return {'loss': loss, 'logits_mask': upsampled_logits, 'mask': mask}\n",
    "        \n",
    "    def validation_epoch_end(self, outputs):\n",
    "        loss = torch.from_numpy(np.array([item['loss'].item() for item in outputs]))\n",
    "        logits_mask = torch.cat([item['logits_mask'].cpu() for item in outputs]).softmax(1)\n",
    "        mask = torch.cat([item['mask'].cpu() for item in outputs]).long()\n",
    "        \n",
    "        pred_mask = logits_mask.argmax(dim=1).long()\n",
    "        \n",
    "        dice_score = dice(\n",
    "            logits_mask, \n",
    "            mask\n",
    "        ).item()\n",
    "        \n",
    "        log_parameters = {\n",
    "            \"loss_valid\": torch.mean(loss),\n",
    "            \"dice_score_valid\": dice_score\n",
    "        }\n",
    "        \n",
    "        del outputs\n",
    "        gc.collect()\n",
    "        \n",
    "        self.log_dict(log_parameters)        \n",
    "\n",
    "    def configure_optimizers(self):\n",
    "        optimizer = torch.optim.Adam(self.parameters(), lr=1e-3)\n",
    "        scheduler = PeakScheduler(\n",
    "            optimizer,\n",
    "            lr_ramp_ep=int(Config.EPOCHS * 0.3), \n",
    "            lr_decay=0.95,\n",
    "            lr_max=1e-03,\n",
    "            lr_min=1e-08\n",
    "        )\n",
    "        \n",
    "        return {\n",
    "            \"optimizer\": optimizer,\n",
    "            \"lr_scheduler\": {\"scheduler\": scheduler, \"interval\": \"epoch\", \"frequency\": 1}\n",
    "        }"
   ]
  },
  {
   "cell_type": "code",
   "execution_count": 18,
   "id": "a3c79aa2",
   "metadata": {
    "execution": {
     "iopub.execute_input": "2022-09-07T13:22:02.519516Z",
     "iopub.status.busy": "2022-09-07T13:22:02.518557Z",
     "iopub.status.idle": "2022-09-07T13:22:02.523905Z",
     "shell.execute_reply": "2022-09-07T13:22:02.522864Z"
    },
    "papermill": {
     "duration": 0.01947,
     "end_time": "2022-09-07T13:22:02.526086",
     "exception": false,
     "start_time": "2022-09-07T13:22:02.506616",
     "status": "completed"
    },
    "tags": []
   },
   "outputs": [],
   "source": [
    "kf = KFold(n_splits=3, shuffle=True, random_state=42)"
   ]
  },
  {
   "cell_type": "code",
   "execution_count": 19,
   "id": "fff50caa",
   "metadata": {
    "execution": {
     "iopub.execute_input": "2022-09-07T13:22:02.550712Z",
     "iopub.status.busy": "2022-09-07T13:22:02.549638Z",
     "iopub.status.idle": "2022-09-07T14:14:28.387581Z",
     "shell.execute_reply": "2022-09-07T14:14:28.386470Z"
    },
    "papermill": {
     "duration": 3145.852463,
     "end_time": "2022-09-07T14:14:28.389802",
     "exception": false,
     "start_time": "2022-09-07T13:22:02.537339",
     "status": "completed"
    },
    "tags": []
   },
   "outputs": [
    {
     "data": {
      "application/vnd.jupyter.widget-view+json": {
       "model_id": "8bba35524bea4cdc88752b43d924f1ce",
       "version_major": 2,
       "version_minor": 0
      },
      "text/plain": [
       "0it [00:00, ?it/s]"
      ]
     },
     "metadata": {},
     "output_type": "display_data"
    },
    {
     "data": {
      "image/png": "[encoded data removed]",
      "text/plain": [
       "<Figure size 432x288 with 1 Axes>"
      ]
     },
     "metadata": {
      "needs_background": "light"
     },
     "output_type": "display_data"
    },
    {
     "name": "stdout",
     "output_type": "stream",
     "text": [
      "Adjusting learning rate of group 0 to 1.0000e-06.\n"
     ]
    },
    {
     "data": {
      "application/vnd.jupyter.widget-view+json": {
       "model_id": "bd04bdf9d5844c6f97f92ab13452b244",
       "version_major": 2,
       "version_minor": 0
      },
      "text/plain": [
       "Sanity Checking: 0it [00:00, ?it/s]"
      ]
     },
     "metadata": {},
     "output_type": "display_data"
    },
    {
     "data": {
      "application/vnd.jupyter.widget-view+json": {
       "model_id": "d68bbba306864cd6a64ac6fac07224eb",
       "version_major": 2,
       "version_minor": 0
      },
      "text/plain": [
       "Training: 0it [00:00, ?it/s]"
      ]
     },
     "metadata": {},
     "output_type": "display_data"
    },
    {
     "name": "stdout",
     "output_type": "stream",
     "text": [
      "Adjusting learning rate of group 0 to 1.0000e-03.\n",
      "Adjusting learning rate of group 0 to 9.5000e-04.\n",
      "Adjusting learning rate of group 0 to 9.0250e-04.\n",
      "Adjusting learning rate of group 0 to 8.5738e-04.\n",
      "Adjusting learning rate of group 0 to 8.1451e-04.\n"
     ]
    },
    {
     "data": {
      "application/vnd.jupyter.widget-view+json": {
       "model_id": "b52feea727d54a3a8f1de4c3acbcb576",
       "version_major": 2,
       "version_minor": 0
      },
      "text/plain": [
       "Validation: 0it [00:00, ?it/s]"
      ]
     },
     "metadata": {},
     "output_type": "display_data"
    },
    {
     "name": "stdout",
     "output_type": "stream",
     "text": [
      "Adjusting learning rate of group 0 to 7.7378e-04.\n"
     ]
    }
   ],
   "source": [
    "fold = 1\n",
    "torch.cuda.empty_cache()\n",
    "for train_idx, test_idx in tqdm(kf.split(range(len(imgs)))):\n",
    "    train_imgs = itemgetter(*train_idx)(imgs)\n",
    "    valid_imgs = itemgetter(*test_idx)(imgs)\n",
    "    \n",
    "    train_dataset = CustomDataset(train_imgs, df_train, 'train')\n",
    "    valid_dataset = CustomDataset(valid_imgs, df_train, 'valid')\n",
    "\n",
    "    train_dataloader = DataLoader(train_dataset, batch_size=Config.BATCH_SIZE, shuffle=True, drop_last=False)\n",
    "    valid_dataloader = DataLoader(valid_dataset, batch_size=Config.BATCH_SIZE, shuffle=False, drop_last=False)\n",
    "    \n",
    "#     net = SegformerForSemanticSegmentation.from_pretrained(\n",
    "#         \"nvidia/mit-b5\",\n",
    "#         ignore_mismatched_sizes=True, \n",
    "#         num_labels=len(organ_annotations)+1, \n",
    "#         reshape_last_stage=True\n",
    "#     )\n",
    "    \n",
    "    net = SegformerForSemanticSegmentation.from_pretrained(\n",
    "       \"../input/unosegformer/Segformer\"\n",
    "    )\n",
    "    \n",
    "    trainer = Trainer(\n",
    "        max_epochs=Config.EPOCHS,\n",
    "        accelerator=\"cuda\",\n",
    "        gpus=1,\n",
    "        precision=32, \n",
    "        auto_lr_find=True,\n",
    "        accumulate_grad_batches=4,\n",
    "        auto_scale_batch_size=True,\n",
    "        check_val_every_n_epoch=5\n",
    "    )\n",
    "\n",
    "    model = SegmentationModel(net)\n",
    "\n",
    "    trainer.fit(\n",
    "        model,\n",
    "        train_dataloader,\n",
    "        valid_dataloader,\n",
    "\n",
    "    )\n",
    "    \n",
    "    MODEL_NAME = f\"Segformer-fold-{fold}-epochs-{Config.EPOCHS}\"\n",
    "\n",
    "    if not os.path.exists(os.path.join(\"./\", MODEL_NAME)):\n",
    "        os.mkdir(os.path.join(\"./\", MODEL_NAME))\n",
    "\n",
    "    model.model.save_pretrained(f\"./{MODEL_NAME}\")  \n",
    "    \n",
    "    fold += 1\n",
    "    \n",
    "    break"
   ]
  },
  {
   "cell_type": "code",
   "execution_count": 20,
   "id": "2ba4ab25",
   "metadata": {
    "execution": {
     "iopub.execute_input": "2022-09-07T14:14:28.413636Z",
     "iopub.status.busy": "2022-09-07T14:14:28.413304Z",
     "iopub.status.idle": "2022-09-07T14:14:28.638602Z",
     "shell.execute_reply": "2022-09-07T14:14:28.637580Z"
    },
    "papermill": {
     "duration": 0.239492,
     "end_time": "2022-09-07T14:14:28.640761",
     "exception": false,
     "start_time": "2022-09-07T14:14:28.401269",
     "status": "completed"
    },
    "tags": []
   },
   "outputs": [],
   "source": [
    "import gc\n",
    "gc.collect()\n",
    "torch.cuda.empty_cache()"
   ]
  },
  {
   "cell_type": "markdown",
   "id": "79b51fec",
   "metadata": {
    "papermill": {
     "duration": 0.010663,
     "end_time": "2022-09-07T14:14:28.662837",
     "exception": false,
     "start_time": "2022-09-07T14:14:28.652174",
     "status": "completed"
    },
    "tags": []
   },
   "source": [
    "### You may try to create an inference notebook by yourself or wait a little bit. I will add it to the public! Even with test-time augmentations ;)"
   ]
  },
  {
   "cell_type": "markdown",
   "id": "dd33ed88",
   "metadata": {
    "papermill": {
     "duration": 0.010716,
     "end_time": "2022-09-07T14:14:28.684253",
     "exception": false,
     "start_time": "2022-09-07T14:14:28.673537",
     "status": "completed"
    },
    "tags": []
   },
   "source": [
    "### Segformer model with mit-b5 backbone, 3 folds gave me 0.70 Dice score on a public LB."
   ]
  },
  {
   "cell_type": "markdown",
   "id": "8f61485b",
   "metadata": {
    "papermill": {
     "duration": 0.010711,
     "end_time": "2022-09-07T14:14:28.705686",
     "exception": false,
     "start_time": "2022-09-07T14:14:28.694975",
     "status": "completed"
    },
    "tags": []
   },
   "source": [
    "### If you find this notebook useful, please upvote it."
   ]
  },
  {
   "cell_type": "markdown",
   "id": "e6c3b0f5",
   "metadata": {
    "papermill": {
     "duration": 0.010611,
     "end_time": "2022-09-07T14:14:28.726927",
     "exception": false,
     "start_time": "2022-09-07T14:14:28.716316",
     "status": "completed"
    },
    "tags": []
   },
   "source": [
    "### If you have any questions, feel free to start discussions in comments =)"
   ]
  },
  {
   "cell_type": "markdown",
   "id": "a66dea8a",
   "metadata": {
    "papermill": {
     "duration": 0.011141,
     "end_time": "2022-09-07T14:14:28.749590",
     "exception": false,
     "start_time": "2022-09-07T14:14:28.738449",
     "status": "completed"
    },
    "tags": []
   },
   "source": [
    "#### >>> Work is in progress. Notebook will be updated!"
   ]
  },
  {
   "cell_type": "code",
   "execution_count": 21,
   "id": "095636ef",
   "metadata": {
    "execution": {
     "iopub.execute_input": "2022-09-07T14:14:28.773410Z",
     "iopub.status.busy": "2022-09-07T14:14:28.772497Z",
     "iopub.status.idle": "2022-09-07T14:14:30.124289Z",
     "shell.execute_reply": "2022-09-07T14:14:30.122991Z"
    },
    "papermill": {
     "duration": 1.366586,
     "end_time": "2022-09-07T14:14:30.126924",
     "exception": false,
     "start_time": "2022-09-07T14:14:28.760338",
     "status": "completed"
    },
    "tags": []
   },
   "outputs": [
    {
     "name": "stdout",
     "output_type": "stream",
     "text": [
      "\u001b[0m\u001b[01;34mSegformer-fold-1-epochs-6\u001b[0m/  \u001b[01;34mlightning_logs\u001b[0m/                   \u001b[01;34mtorchmetrics\u001b[0m/\r\n",
      "__notebook__.ipynb          \u001b[01;34mpytorch-segmentation-models-lib\u001b[0m/\r\n"
     ]
    }
   ],
   "source": [
    "ls"
   ]
  },
  {
   "cell_type": "code",
   "execution_count": 22,
   "id": "786f9b68",
   "metadata": {
    "execution": {
     "iopub.execute_input": "2022-09-07T14:14:30.169717Z",
     "iopub.status.busy": "2022-09-07T14:14:30.169269Z",
     "iopub.status.idle": "2022-09-07T14:14:30.184270Z",
     "shell.execute_reply": "2022-09-07T14:14:30.183085Z"
    },
    "papermill": {
     "duration": 0.041465,
     "end_time": "2022-09-07T14:14:30.186721",
     "exception": false,
     "start_time": "2022-09-07T14:14:30.145256",
     "status": "completed"
    },
    "tags": []
   },
   "outputs": [
    {
     "name": "stdout",
     "output_type": "stream",
     "text": [
      "/kaggle/working/Segformer-fold-1-epochs-6\n"
     ]
    }
   ],
   "source": [
    "cd Segformer-fold-1-epochs-6"
   ]
  },
  {
   "cell_type": "code",
   "execution_count": 23,
   "id": "e27c7832",
   "metadata": {
    "execution": {
     "iopub.execute_input": "2022-09-07T14:14:30.231580Z",
     "iopub.status.busy": "2022-09-07T14:14:30.230963Z",
     "iopub.status.idle": "2022-09-07T14:14:31.444189Z",
     "shell.execute_reply": "2022-09-07T14:14:31.442355Z"
    },
    "papermill": {
     "duration": 1.238763,
     "end_time": "2022-09-07T14:14:31.446851",
     "exception": false,
     "start_time": "2022-09-07T14:14:30.208088",
     "status": "completed"
    },
    "tags": []
   },
   "outputs": [
    {
     "name": "stdout",
     "output_type": "stream",
     "text": [
      "cp: cannot stat 'Segformer-fold-1-epochs-6/pytorch_model.bin': No such file or directory\r\n"
     ]
    },
    {
     "data": {
      "text/html": [
       "Path (<tt>pytorch_model.bin</tt>) doesn't exist. It may still be in the process of being generated, or you may have the incorrect path."
      ],
      "text/plain": [
       "/kaggle/working/pytorch_model.bin"
      ]
     },
     "execution_count": 23,
     "metadata": {},
     "output_type": "execute_result"
    }
   ],
   "source": [
    "from IPython.display import FileLink\n",
    "#%cd ../../..\n",
    "!cp -r Segformer-fold-1-epochs-6/pytorch_model.bin .\n",
    "import os\n",
    "os.chdir(r'/kaggle/working')\n",
    "FileLink(r'pytorch_model.bin')"
   ]
  },
  {
   "cell_type": "code",
   "execution_count": 24,
   "id": "efa80a81",
   "metadata": {
    "execution": {
     "iopub.execute_input": "2022-09-07T14:14:31.474532Z",
     "iopub.status.busy": "2022-09-07T14:14:31.473883Z",
     "iopub.status.idle": "2022-09-07T14:14:32.581891Z",
     "shell.execute_reply": "2022-09-07T14:14:32.580613Z"
    },
    "papermill": {
     "duration": 1.124965,
     "end_time": "2022-09-07T14:14:32.584522",
     "exception": false,
     "start_time": "2022-09-07T14:14:31.459557",
     "status": "completed"
    },
    "tags": []
   },
   "outputs": [
    {
     "name": "stdout",
     "output_type": "stream",
     "text": [
      "/kaggle/working\r\n"
     ]
    }
   ],
   "source": [
    "!pwd "
   ]
  },
  {
   "cell_type": "code",
   "execution_count": null,
   "id": "a111d5d2",
   "metadata": {
    "papermill": {
     "duration": 0.011061,
     "end_time": "2022-09-07T14:14:32.607015",
     "exception": false,
     "start_time": "2022-09-07T14:14:32.595954",
     "status": "completed"
    },
    "tags": []
   },
   "outputs": [],
   "source": []
  }
 ],
 "metadata": {
  "kernelspec": {
   "display_name": "Python 3",
   "language": "python",
   "name": "python3"
  },
  "language_info": {
   "codemirror_mode": {
    "name": "ipython",
    "version": 3
   },
   "file_extension": ".py",
   "mimetype": "text/x-python",
   "name": "python",
   "nbconvert_exporter": "python",
   "pygments_lexer": "ipython3",
   "version": "3.7.12"
  },
  "papermill": {
   "default_parameters": {},
   "duration": 3357.05876,
   "end_time": "2022-09-07T14:14:36.058589",
   "environment_variables": {},
   "exception": null,
   "input_path": "__notebook__.ipynb",
   "output_path": "__notebook__.ipynb",
   "parameters": {},
   "start_time": "2022-09-07T13:18:38.999829",
   "version": "2.3.4"
  },
  "widgets": {
   "application/vnd.jupyter.widget-state+json": {
    "state": {
     "03ccd7b3a9e4492f98bd657b28b033a9": {
      "model_module": "@jupyter-widgets/controls",
      "model_module_version": "1.5.0",
      "model_name": "FloatProgressModel",
      "state": {
       "_dom_classes": [],
       "_model_module": "@jupyter-widgets/controls",
       "_model_module_version": "1.5.0",
       "_model_name": "FloatProgressModel",
       "_view_count": null,
       "_view_module": "@jupyter-widgets/controls",
       "_view_module_version": "1.5.0",
       "_view_name": "ProgressView",
       "bar_style": "danger",
       "description": "",
       "description_tooltip": null,
       "layout": "IPY_MODEL_cffbb783a1d54891adc0a7a9689cc187",
       "max": 1.0,
       "min": 0.0,
       "orientation": "horizontal",
       "style": "IPY_MODEL_b0f7ffafb79645fca9fb08a618d585f9",
       "value": 0.0
      }
     },
     "064d3ea074f44ce784a86ad983f1aa73": {
      "model_module": "@jupyter-widgets/base",
      "model_module_version": "1.2.0",
      "model_name": "LayoutModel",
      "state": {
       "_model_module": "@jupyter-widgets/base",
       "_model_module_version": "1.2.0",
       "_model_name": "LayoutModel",
       "_view_count": null,
       "_view_module": "@jupyter-widgets/base",
       "_view_module_version": "1.2.0",
       "_view_name": "LayoutView",
       "align_content": null,
       "align_items": null,
       "align_self": null,
       "border": null,
       "bottom": null,
       "display": "inline-flex",
       "flex": null,
       "flex_flow": "row wrap",
       "grid_area": null,
       "grid_auto_columns": null,
       "grid_auto_flow": null,
       "grid_auto_rows": null,
       "grid_column": null,
       "grid_gap": null,
       "grid_row": null,
       "grid_template_areas": null,
       "grid_template_columns": null,
       "grid_template_rows": null,
       "height": null,
       "justify_content": null,
       "justify_items": null,
       "left": null,
       "margin": null,
       "max_height": null,
       "max_width": null,
       "min_height": null,
       "min_width": null,
       "object_fit": null,
       "object_position": null,
       "order": null,
       "overflow": null,
       "overflow_x": null,
       "overflow_y": null,
       "padding": null,
       "right": null,
       "top": null,
       "visibility": null,
       "width": "100%"
      }
     },
     "237e2ed36a6a4b729d945df6842889c3": {
      "model_module": "@jupyter-widgets/controls",
      "model_module_version": "1.5.0",
      "model_name": "DescriptionStyleModel",
      "state": {
       "_model_module": "@jupyter-widgets/controls",
       "_model_module_version": "1.5.0",
       "_model_name": "DescriptionStyleModel",
       "_view_count": null,
       "_view_module": "@jupyter-widgets/base",
       "_view_module_version": "1.2.0",
       "_view_name": "StyleView",
       "description_width": ""
      }
     },
     "2383b25cd79d4ac58f90c4b7f97434e6": {
      "model_module": "@jupyter-widgets/base",
      "model_module_version": "1.2.0",
      "model_name": "LayoutModel",
      "state": {
       "_model_module": "@jupyter-widgets/base",
       "_model_module_version": "1.2.0",
       "_model_name": "LayoutModel",
       "_view_count": null,
       "_view_module": "@jupyter-widgets/base",
       "_view_module_version": "1.2.0",
       "_view_name": "LayoutView",
       "align_content": null,
       "align_items": null,
       "align_self": null,
       "border": null,
       "bottom": null,
       "display": null,
       "flex": null,
       "flex_flow": null,
       "grid_area": null,
       "grid_auto_columns": null,
       "grid_auto_flow": null,
       "grid_auto_rows": null,
       "grid_column": null,
       "grid_gap": null,
       "grid_row": null,
       "grid_template_areas": null,
       "grid_template_columns": null,
       "grid_template_rows": null,
       "height": null,
       "justify_content": null,
       "justify_items": null,
       "left": null,
       "margin": null,
       "max_height": null,
       "max_width": null,
       "min_height": null,
       "min_width": null,
       "object_fit": null,
       "object_position": null,
       "order": null,
       "overflow": null,
       "overflow_x": null,
       "overflow_y": null,
       "padding": null,
       "right": null,
       "top": null,
       "visibility": null,
       "width": null
      }
     },
     "24fa45a0103b4cc0b68fe06550910a10": {
      "model_module": "@jupyter-widgets/controls",
      "model_module_version": "1.5.0",
      "model_name": "HBoxModel",
      "state": {
       "_dom_classes": [],
       "_model_module": "@jupyter-widgets/controls",
       "_model_module_version": "1.5.0",
       "_model_name": "HBoxModel",
       "_view_count": null,
       "_view_module": "@jupyter-widgets/controls",
       "_view_module_version": "1.5.0",
       "_view_name": "HBoxView",
       "box_style": "",
       "children": [
        "IPY_MODEL_9cc8138462e14f2591e975d67cba4459",
        "IPY_MODEL_7a8b5940150e4dce9470a96b7b246daa",
        "IPY_MODEL_580aae073c304d5bbbd4e5fa5ec29d1c"
       ],
       "layout": "IPY_MODEL_65117239ea66498983e6f6993251c655"
      }
     },
     "2bae2ede8b3d455ca024c33fc64469e5": {
      "model_module": "@jupyter-widgets/base",
      "model_module_version": "1.2.0",
      "model_name": "LayoutModel",
      "state": {
       "_model_module": "@jupyter-widgets/base",
       "_model_module_version": "1.2.0",
       "_model_name": "LayoutModel",
       "_view_count": null,
       "_view_module": "@jupyter-widgets/base",
       "_view_module_version": "1.2.0",
       "_view_name": "LayoutView",
       "align_content": null,
       "align_items": null,
       "align_self": null,
       "border": null,
       "bottom": null,
       "display": null,
       "flex": "2",
       "flex_flow": null,
       "grid_area": null,
       "grid_auto_columns": null,
       "grid_auto_flow": null,
       "grid_auto_rows": null,
       "grid_column": null,
       "grid_gap": null,
       "grid_row": null,
       "grid_template_areas": null,
       "grid_template_columns": null,
       "grid_template_rows": null,
       "height": null,
       "justify_content": null,
       "justify_items": null,
       "left": null,
       "margin": null,
       "max_height": null,
       "max_width": null,
       "min_height": null,
       "min_width": null,
       "object_fit": null,
       "object_position": null,
       "order": null,
       "overflow": null,
       "overflow_x": null,
       "overflow_y": null,
       "padding": null,
       "right": null,
       "top": null,
       "visibility": null,
       "width": null
      }
     },
     "2e95d780d526410fbd43df7cd7009818": {
      "model_module": "@jupyter-widgets/controls",
      "model_module_version": "1.5.0",
      "model_name": "DescriptionStyleModel",
      "state": {
       "_model_module": "@jupyter-widgets/controls",
       "_model_module_version": "1.5.0",
       "_model_name": "DescriptionStyleModel",
       "_view_count": null,
       "_view_module": "@jupyter-widgets/base",
       "_view_module_version": "1.2.0",
       "_view_name": "StyleView",
       "description_width": ""
      }
     },
     "38379154d9d240f3a46ab67e7d02335b": {
      "model_module": "@jupyter-widgets/controls",
      "model_module_version": "1.5.0",
      "model_name": "FloatProgressModel",
      "state": {
       "_dom_classes": [],
       "_model_module": "@jupyter-widgets/controls",
       "_model_module_version": "1.5.0",
       "_model_name": "FloatProgressModel",
       "_view_count": null,
       "_view_module": "@jupyter-widgets/controls",
       "_view_module_version": "1.5.0",
       "_view_name": "ProgressView",
       "bar_style": "",
       "description": "",
       "description_tooltip": null,
       "layout": "IPY_MODEL_2bae2ede8b3d455ca024c33fc64469e5",
       "max": 30.0,
       "min": 0.0,
       "orientation": "horizontal",
       "style": "IPY_MODEL_a6065617e1044ea7809256d6da66ce10",
       "value": 30.0
      }
     },
     "38429cde097c4a4195cc8331f0c5b2e8": {
      "model_module": "@jupyter-widgets/controls",
      "model_module_version": "1.5.0",
      "model_name": "DescriptionStyleModel",
      "state": {
       "_model_module": "@jupyter-widgets/controls",
       "_model_module_version": "1.5.0",
       "_model_name": "DescriptionStyleModel",
       "_view_count": null,
       "_view_module": "@jupyter-widgets/base",
       "_view_module_version": "1.2.0",
       "_view_name": "StyleView",
       "description_width": ""
      }
     },
     "417806b963804219ae1bb10be7997021": {
      "model_module": "@jupyter-widgets/base",
      "model_module_version": "1.2.0",
      "model_name": "LayoutModel",
      "state": {
       "_model_module": "@jupyter-widgets/base",
       "_model_module_version": "1.2.0",
       "_model_name": "LayoutModel",
       "_view_count": null,
       "_view_module": "@jupyter-widgets/base",
       "_view_module_version": "1.2.0",
       "_view_name": "LayoutView",
       "align_content": null,
       "align_items": null,
       "align_self": null,
       "border": null,
       "bottom": null,
       "display": null,
       "flex": null,
       "flex_flow": null,
       "grid_area": null,
       "grid_auto_columns": null,
       "grid_auto_flow": null,
       "grid_auto_rows": null,
       "grid_column": null,
       "grid_gap": null,
       "grid_row": null,
       "grid_template_areas": null,
       "grid_template_columns": null,
       "grid_template_rows": null,
       "height": null,
       "justify_content": null,
       "justify_items": null,
       "left": null,
       "margin": null,
       "max_height": null,
       "max_width": null,
       "min_height": null,
       "min_width": null,
       "object_fit": null,
       "object_position": null,
       "order": null,
       "overflow": null,
       "overflow_x": null,
       "overflow_y": null,
       "padding": null,
       "right": null,
       "top": null,
       "visibility": null,
       "width": null
      }
     },
     "42d4831d2da84c98b1286706c72ee08e": {
      "model_module": "@jupyter-widgets/base",
      "model_module_version": "1.2.0",
      "model_name": "LayoutModel",
      "state": {
       "_model_module": "@jupyter-widgets/base",
       "_model_module_version": "1.2.0",
       "_model_name": "LayoutModel",
       "_view_count": null,
       "_view_module": "@jupyter-widgets/base",
       "_view_module_version": "1.2.0",
       "_view_name": "LayoutView",
       "align_content": null,
       "align_items": null,
       "align_self": null,
       "border": null,
       "bottom": null,
       "display": null,
       "flex": null,
       "flex_flow": null,
       "grid_area": null,
       "grid_auto_columns": null,
       "grid_auto_flow": null,
       "grid_auto_rows": null,
       "grid_column": null,
       "grid_gap": null,
       "grid_row": null,
       "grid_template_areas": null,
       "grid_template_columns": null,
       "grid_template_rows": null,
       "height": null,
       "justify_content": null,
       "justify_items": null,
       "left": null,
       "margin": null,
       "max_height": null,
       "max_width": null,
       "min_height": null,
       "min_width": null,
       "object_fit": null,
       "object_position": null,
       "order": null,
       "overflow": null,
       "overflow_x": null,
       "overflow_y": null,
       "padding": null,
       "right": null,
       "top": null,
       "visibility": null,
       "width": null
      }
     },
     "44f677c4b7924d91b60725b6acf58a20": {
      "model_module": "@jupyter-widgets/controls",
      "model_module_version": "1.5.0",
      "model_name": "HTMLModel",
      "state": {
       "_dom_classes": [],
       "_model_module": "@jupyter-widgets/controls",
       "_model_module_version": "1.5.0",
       "_model_name": "HTMLModel",
       "_view_count": null,
       "_view_module": "@jupyter-widgets/controls",
       "_view_module_version": "1.5.0",
       "_view_name": "HTMLView",
       "description": "",
       "description_tooltip": null,
       "layout": "IPY_MODEL_ef553d645e1a4710b7994331ce225837",
       "placeholder": "​",
       "style": "IPY_MODEL_6c6badf12a204aaf986be1b16be0617d",
       "value": "Epoch 5: 100%"
      }
     },
     "45bc5644542e443682f00414ad3c9d10": {
      "model_module": "@jupyter-widgets/controls",
      "model_module_version": "1.5.0",
      "model_name": "HTMLModel",
      "state": {
       "_dom_classes": [],
       "_model_module": "@jupyter-widgets/controls",
       "_model_module_version": "1.5.0",
       "_model_name": "HTMLModel",
       "_view_count": null,
       "_view_module": "@jupyter-widgets/controls",
       "_view_module_version": "1.5.0",
       "_view_name": "HTMLView",
       "description": "",
       "description_tooltip": null,
       "layout": "IPY_MODEL_2383b25cd79d4ac58f90c4b7f97434e6",
       "placeholder": "​",
       "style": "IPY_MODEL_38429cde097c4a4195cc8331f0c5b2e8",
       "value": " 0/? [52:25&lt;?, ?it/s]"
      }
     },
     "496ba4798d5e4d0ca5168a777ffde597": {
      "model_module": "@jupyter-widgets/base",
      "model_module_version": "1.2.0",
      "model_name": "LayoutModel",
      "state": {
       "_model_module": "@jupyter-widgets/base",
       "_model_module_version": "1.2.0",
       "_model_name": "LayoutModel",
       "_view_count": null,
       "_view_module": "@jupyter-widgets/base",
       "_view_module_version": "1.2.0",
       "_view_name": "LayoutView",
       "align_content": null,
       "align_items": null,
       "align_self": null,
       "border": null,
       "bottom": null,
       "display": null,
       "flex": null,
       "flex_flow": null,
       "grid_area": null,
       "grid_auto_columns": null,
       "grid_auto_flow": null,
       "grid_auto_rows": null,
       "grid_column": null,
       "grid_gap": null,
       "grid_row": null,
       "grid_template_areas": null,
       "grid_template_columns": null,
       "grid_template_rows": null,
       "height": null,
       "justify_content": null,
       "justify_items": null,
       "left": null,
       "margin": null,
       "max_height": null,
       "max_width": null,
       "min_height": null,
       "min_width": null,
       "object_fit": null,
       "object_position": null,
       "order": null,
       "overflow": null,
       "overflow_x": null,
       "overflow_y": null,
       "padding": null,
       "right": null,
       "top": null,
       "visibility": null,
       "width": null
      }
     },
     "49d0d8e80d6442ed88812235fb7e9d88": {
      "model_module": "@jupyter-widgets/controls",
      "model_module_version": "1.5.0",
      "model_name": "HTMLModel",
      "state": {
       "_dom_classes": [],
       "_model_module": "@jupyter-widgets/controls",
       "_model_module_version": "1.5.0",
       "_model_name": "HTMLModel",
       "_view_count": null,
       "_view_module": "@jupyter-widgets/controls",
       "_view_module_version": "1.5.0",
       "_view_name": "HTMLView",
       "description": "",
       "description_tooltip": null,
       "layout": "IPY_MODEL_d8a1bcd3ada44d249ab98a745097d269",
       "placeholder": "​",
       "style": "IPY_MODEL_2e95d780d526410fbd43df7cd7009818",
       "value": " 59/59 [08:18&lt;00:00,  8.44s/it, loss=0.214, v_num=0]"
      }
     },
     "4e8c7e5577ca4b0cbadcd861db9279c3": {
      "model_module": "@jupyter-widgets/controls",
      "model_module_version": "1.5.0",
      "model_name": "FloatProgressModel",
      "state": {
       "_dom_classes": [],
       "_model_module": "@jupyter-widgets/controls",
       "_model_module_version": "1.5.0",
       "_model_name": "FloatProgressModel",
       "_view_count": null,
       "_view_module": "@jupyter-widgets/controls",
       "_view_module_version": "1.5.0",
       "_view_name": "ProgressView",
       "bar_style": "",
       "description": "",
       "description_tooltip": null,
       "layout": "IPY_MODEL_c59a41032fd644cdaf42394d22734d20",
       "max": 2.0,
       "min": 0.0,
       "orientation": "horizontal",
       "style": "IPY_MODEL_f232f110fb8440769dc69c749dce4894",
       "value": 2.0
      }
     },
     "580aae073c304d5bbbd4e5fa5ec29d1c": {
      "model_module": "@jupyter-widgets/controls",
      "model_module_version": "1.5.0",
      "model_name": "HTMLModel",
      "state": {
       "_dom_classes": [],
       "_model_module": "@jupyter-widgets/controls",
       "_model_module_version": "1.5.0",
       "_model_name": "HTMLModel",
       "_view_count": null,
       "_view_module": "@jupyter-widgets/controls",
       "_view_module_version": "1.5.0",
       "_view_name": "HTMLView",
       "description": "",
       "description_tooltip": null,
       "layout": "IPY_MODEL_496ba4798d5e4d0ca5168a777ffde597",
       "placeholder": "​",
       "style": "IPY_MODEL_96f7fa5e667d4cbca477a0d22a67abe1",
       "value": " 351/351 [00:00&lt;00:00, 11629.03it/s]"
      }
     },
     "5b17bf945b4649e785adfbd812e9792b": {
      "model_module": "@jupyter-widgets/controls",
      "model_module_version": "1.5.0",
      "model_name": "HTMLModel",
      "state": {
       "_dom_classes": [],
       "_model_module": "@jupyter-widgets/controls",
       "_model_module_version": "1.5.0",
       "_model_name": "HTMLModel",
       "_view_count": null,
       "_view_module": "@jupyter-widgets/controls",
       "_view_module_version": "1.5.0",
       "_view_name": "HTMLView",
       "description": "",
       "description_tooltip": null,
       "layout": "IPY_MODEL_42d4831d2da84c98b1286706c72ee08e",
       "placeholder": "​",
       "style": "IPY_MODEL_237e2ed36a6a4b729d945df6842889c3",
       "value": " 30/30 [03:53&lt;00:00,  6.47s/it]"
      }
     },
     "5c5bae9d749e422c87419e6ccddab741": {
      "model_module": "@jupyter-widgets/controls",
      "model_module_version": "1.5.0",
      "model_name": "DescriptionStyleModel",
      "state": {
       "_model_module": "@jupyter-widgets/controls",
       "_model_module_version": "1.5.0",
       "_model_name": "DescriptionStyleModel",
       "_view_count": null,
       "_view_module": "@jupyter-widgets/base",
       "_view_module_version": "1.2.0",
       "_view_name": "StyleView",
       "description_width": ""
      }
     },
     "65117239ea66498983e6f6993251c655": {
      "model_module": "@jupyter-widgets/base",
      "model_module_version": "1.2.0",
      "model_name": "LayoutModel",
      "state": {
       "_model_module": "@jupyter-widgets/base",
       "_model_module_version": "1.2.0",
       "_model_name": "LayoutModel",
       "_view_count": null,
       "_view_module": "@jupyter-widgets/base",
       "_view_module_version": "1.2.0",
       "_view_name": "LayoutView",
       "align_content": null,
       "align_items": null,
       "align_self": null,
       "border": null,
       "bottom": null,
       "display": null,
       "flex": null,
       "flex_flow": null,
       "grid_area": null,
       "grid_auto_columns": null,
       "grid_auto_flow": null,
       "grid_auto_rows": null,
       "grid_column": null,
       "grid_gap": null,
       "grid_row": null,
       "grid_template_areas": null,
       "grid_template_columns": null,
       "grid_template_rows": null,
       "height": null,
       "justify_content": null,
       "justify_items": null,
       "left": null,
       "margin": null,
       "max_height": null,
       "max_width": null,
       "min_height": null,
       "min_width": null,
       "object_fit": null,
       "object_position": null,
       "order": null,
       "overflow": null,
       "overflow_x": null,
       "overflow_y": null,
       "padding": null,
       "right": null,
       "top": null,
       "visibility": null,
       "width": null
      }
     },
     "6551126639014d78abdc4c81969fdc6b": {
      "model_module": "@jupyter-widgets/controls",
      "model_module_version": "1.5.0",
      "model_name": "HTMLModel",
      "state": {
       "_dom_classes": [],
       "_model_module": "@jupyter-widgets/controls",
       "_model_module_version": "1.5.0",
       "_model_name": "HTMLModel",
       "_view_count": null,
       "_view_module": "@jupyter-widgets/controls",
       "_view_module_version": "1.5.0",
       "_view_name": "HTMLView",
       "description": "",
       "description_tooltip": null,
       "layout": "IPY_MODEL_d922ba24b4404266ad6a7fc3d04e03a6",
       "placeholder": "​",
       "style": "IPY_MODEL_fef4581c1da943e7b3431b8d9db29ef6",
       "value": "Sanity Checking DataLoader 0: 100%"
      }
     },
     "6c6badf12a204aaf986be1b16be0617d": {
      "model_module": "@jupyter-widgets/controls",
      "model_module_version": "1.5.0",
      "model_name": "DescriptionStyleModel",
      "state": {
       "_model_module": "@jupyter-widgets/controls",
       "_model_module_version": "1.5.0",
       "_model_name": "DescriptionStyleModel",
       "_view_count": null,
       "_view_module": "@jupyter-widgets/base",
       "_view_module_version": "1.2.0",
       "_view_name": "StyleView",
       "description_width": ""
      }
     },
     "6d16aa51c1744f13a129e05410be5335": {
      "model_module": "@jupyter-widgets/base",
      "model_module_version": "1.2.0",
      "model_name": "LayoutModel",
      "state": {
       "_model_module": "@jupyter-widgets/base",
       "_model_module_version": "1.2.0",
       "_model_name": "LayoutModel",
       "_view_count": null,
       "_view_module": "@jupyter-widgets/base",
       "_view_module_version": "1.2.0",
       "_view_name": "LayoutView",
       "align_content": null,
       "align_items": null,
       "align_self": null,
       "border": null,
       "bottom": null,
       "display": null,
       "flex": null,
       "flex_flow": null,
       "grid_area": null,
       "grid_auto_columns": null,
       "grid_auto_flow": null,
       "grid_auto_rows": null,
       "grid_column": null,
       "grid_gap": null,
       "grid_row": null,
       "grid_template_areas": null,
       "grid_template_columns": null,
       "grid_template_rows": null,
       "height": null,
       "justify_content": null,
       "justify_items": null,
       "left": null,
       "margin": null,
       "max_height": null,
       "max_width": null,
       "min_height": null,
       "min_width": null,
       "object_fit": null,
       "object_position": null,
       "order": null,
       "overflow": null,
       "overflow_x": null,
       "overflow_y": null,
       "padding": null,
       "right": null,
       "top": null,
       "visibility": null,
       "width": null
      }
     },
     "6f3213736e5d4c11ab707608e8805b0c": {
      "model_module": "@jupyter-widgets/controls",
      "model_module_version": "1.5.0",
      "model_name": "DescriptionStyleModel",
      "state": {
       "_model_module": "@jupyter-widgets/controls",
       "_model_module_version": "1.5.0",
       "_model_name": "DescriptionStyleModel",
       "_view_count": null,
       "_view_module": "@jupyter-widgets/base",
       "_view_module_version": "1.2.0",
       "_view_name": "StyleView",
       "description_width": ""
      }
     },
     "74ac09026dd740b183d22441fbf10574": {
      "model_module": "@jupyter-widgets/controls",
      "model_module_version": "1.5.0",
      "model_name": "HTMLModel",
      "state": {
       "_dom_classes": [],
       "_model_module": "@jupyter-widgets/controls",
       "_model_module_version": "1.5.0",
       "_model_name": "HTMLModel",
       "_view_count": null,
       "_view_module": "@jupyter-widgets/controls",
       "_view_module_version": "1.5.0",
       "_view_name": "HTMLView",
       "description": "",
       "description_tooltip": null,
       "layout": "IPY_MODEL_7dc1a0186f424f889284c9a460fcbcdf",
       "placeholder": "​",
       "style": "IPY_MODEL_fa67d404a0d7493f98c1e2c7d7845e1b",
       "value": " 2/2 [00:14&lt;00:00,  7.63s/it]"
      }
     },
     "7a8b5940150e4dce9470a96b7b246daa": {
      "model_module": "@jupyter-widgets/controls",
      "model_module_version": "1.5.0",
      "model_name": "FloatProgressModel",
      "state": {
       "_dom_classes": [],
       "_model_module": "@jupyter-widgets/controls",
       "_model_module_version": "1.5.0",
       "_model_name": "FloatProgressModel",
       "_view_count": null,
       "_view_module": "@jupyter-widgets/controls",
       "_view_module_version": "1.5.0",
       "_view_name": "ProgressView",
       "bar_style": "success",
       "description": "",
       "description_tooltip": null,
       "layout": "IPY_MODEL_eaf46094f15b4b38877b5929b604b1f6",
       "max": 351.0,
       "min": 0.0,
       "orientation": "horizontal",
       "style": "IPY_MODEL_93927d5369f54148ae6eac6fc90a0481",
       "value": 351.0
      }
     },
     "7dc1a0186f424f889284c9a460fcbcdf": {
      "model_module": "@jupyter-widgets/base",
      "model_module_version": "1.2.0",
      "model_name": "LayoutModel",
      "state": {
       "_model_module": "@jupyter-widgets/base",
       "_model_module_version": "1.2.0",
       "_model_name": "LayoutModel",
       "_view_count": null,
       "_view_module": "@jupyter-widgets/base",
       "_view_module_version": "1.2.0",
       "_view_name": "LayoutView",
       "align_content": null,
       "align_items": null,
       "align_self": null,
       "border": null,
       "bottom": null,
       "display": null,
       "flex": null,
       "flex_flow": null,
       "grid_area": null,
       "grid_auto_columns": null,
       "grid_auto_flow": null,
       "grid_auto_rows": null,
       "grid_column": null,
       "grid_gap": null,
       "grid_row": null,
       "grid_template_areas": null,
       "grid_template_columns": null,
       "grid_template_rows": null,
       "height": null,
       "justify_content": null,
       "justify_items": null,
       "left": null,
       "margin": null,
       "max_height": null,
       "max_width": null,
       "min_height": null,
       "min_width": null,
       "object_fit": null,
       "object_position": null,
       "order": null,
       "overflow": null,
       "overflow_x": null,
       "overflow_y": null,
       "padding": null,
       "right": null,
       "top": null,
       "visibility": null,
       "width": null
      }
     },
     "8bba35524bea4cdc88752b43d924f1ce": {
      "model_module": "@jupyter-widgets/controls",
      "model_module_version": "1.5.0",
      "model_name": "HBoxModel",
      "state": {
       "_dom_classes": [],
       "_model_module": "@jupyter-widgets/controls",
       "_model_module_version": "1.5.0",
       "_model_name": "HBoxModel",
       "_view_count": null,
       "_view_module": "@jupyter-widgets/controls",
       "_view_module_version": "1.5.0",
       "_view_name": "HBoxView",
       "box_style": "",
       "children": [
        "IPY_MODEL_baf33a5052204b57acbc9ddda235313b",
        "IPY_MODEL_03ccd7b3a9e4492f98bd657b28b033a9",
        "IPY_MODEL_45bc5644542e443682f00414ad3c9d10"
       ],
       "layout": "IPY_MODEL_417806b963804219ae1bb10be7997021"
      }
     },
     "93927d5369f54148ae6eac6fc90a0481": {
      "model_module": "@jupyter-widgets/controls",
      "model_module_version": "1.5.0",
      "model_name": "ProgressStyleModel",
      "state": {
       "_model_module": "@jupyter-widgets/controls",
       "_model_module_version": "1.5.0",
       "_model_name": "ProgressStyleModel",
       "_view_count": null,
       "_view_module": "@jupyter-widgets/base",
       "_view_module_version": "1.2.0",
       "_view_name": "StyleView",
       "bar_color": null,
       "description_width": ""
      }
     },
     "96f7fa5e667d4cbca477a0d22a67abe1": {
      "model_module": "@jupyter-widgets/controls",
      "model_module_version": "1.5.0",
      "model_name": "DescriptionStyleModel",
      "state": {
       "_model_module": "@jupyter-widgets/controls",
       "_model_module_version": "1.5.0",
       "_model_name": "DescriptionStyleModel",
       "_view_count": null,
       "_view_module": "@jupyter-widgets/base",
       "_view_module_version": "1.2.0",
       "_view_name": "StyleView",
       "description_width": ""
      }
     },
     "9cc8138462e14f2591e975d67cba4459": {
      "model_module": "@jupyter-widgets/controls",
      "model_module_version": "1.5.0",
      "model_name": "HTMLModel",
      "state": {
       "_dom_classes": [],
       "_model_module": "@jupyter-widgets/controls",
       "_model_module_version": "1.5.0",
       "_model_name": "HTMLModel",
       "_view_count": null,
       "_view_module": "@jupyter-widgets/controls",
       "_view_module_version": "1.5.0",
       "_view_name": "HTMLView",
       "description": "",
       "description_tooltip": null,
       "layout": "IPY_MODEL_cefbb1506f5841518323e294058b912f",
       "placeholder": "​",
       "style": "IPY_MODEL_6f3213736e5d4c11ab707608e8805b0c",
       "value": "100%"
      }
     },
     "a6065617e1044ea7809256d6da66ce10": {
      "model_module": "@jupyter-widgets/controls",
      "model_module_version": "1.5.0",
      "model_name": "ProgressStyleModel",
      "state": {
       "_model_module": "@jupyter-widgets/controls",
       "_model_module_version": "1.5.0",
       "_model_name": "ProgressStyleModel",
       "_view_count": null,
       "_view_module": "@jupyter-widgets/base",
       "_view_module_version": "1.2.0",
       "_view_name": "StyleView",
       "bar_color": null,
       "description_width": ""
      }
     },
     "a730990bc4cc4ee6b8aadf2648d776b1": {
      "model_module": "@jupyter-widgets/base",
      "model_module_version": "1.2.0",
      "model_name": "LayoutModel",
      "state": {
       "_model_module": "@jupyter-widgets/base",
       "_model_module_version": "1.2.0",
       "_model_name": "LayoutModel",
       "_view_count": null,
       "_view_module": "@jupyter-widgets/base",
       "_view_module_version": "1.2.0",
       "_view_name": "LayoutView",
       "align_content": null,
       "align_items": null,
       "align_self": null,
       "border": null,
       "bottom": null,
       "display": "inline-flex",
       "flex": null,
       "flex_flow": "row wrap",
       "grid_area": null,
       "grid_auto_columns": null,
       "grid_auto_flow": null,
       "grid_auto_rows": null,
       "grid_column": null,
       "grid_gap": null,
       "grid_row": null,
       "grid_template_areas": null,
       "grid_template_columns": null,
       "grid_template_rows": null,
       "height": null,
       "justify_content": null,
       "justify_items": null,
       "left": null,
       "margin": null,
       "max_height": null,
       "max_width": null,
       "min_height": null,
       "min_width": null,
       "object_fit": null,
       "object_position": null,
       "order": null,
       "overflow": null,
       "overflow_x": null,
       "overflow_y": null,
       "padding": null,
       "right": null,
       "top": null,
       "visibility": null,
       "width": "100%"
      }
     },
     "a85e9175227644068016419f12737bc7": {
      "model_module": "@jupyter-widgets/controls",
      "model_module_version": "1.5.0",
      "model_name": "HTMLModel",
      "state": {
       "_dom_classes": [],
       "_model_module": "@jupyter-widgets/controls",
       "_model_module_version": "1.5.0",
       "_model_name": "HTMLModel",
       "_view_count": null,
       "_view_module": "@jupyter-widgets/controls",
       "_view_module_version": "1.5.0",
       "_view_name": "HTMLView",
       "description": "",
       "description_tooltip": null,
       "layout": "IPY_MODEL_6d16aa51c1744f13a129e05410be5335",
       "placeholder": "​",
       "style": "IPY_MODEL_abe30cc88f3b4b31ad14087391911325",
       "value": "Validation DataLoader 0: 100%"
      }
     },
     "abe30cc88f3b4b31ad14087391911325": {
      "model_module": "@jupyter-widgets/controls",
      "model_module_version": "1.5.0",
      "model_name": "DescriptionStyleModel",
      "state": {
       "_model_module": "@jupyter-widgets/controls",
       "_model_module_version": "1.5.0",
       "_model_name": "DescriptionStyleModel",
       "_view_count": null,
       "_view_module": "@jupyter-widgets/base",
       "_view_module_version": "1.2.0",
       "_view_name": "StyleView",
       "description_width": ""
      }
     },
     "b0f7ffafb79645fca9fb08a618d585f9": {
      "model_module": "@jupyter-widgets/controls",
      "model_module_version": "1.5.0",
      "model_name": "ProgressStyleModel",
      "state": {
       "_model_module": "@jupyter-widgets/controls",
       "_model_module_version": "1.5.0",
       "_model_name": "ProgressStyleModel",
       "_view_count": null,
       "_view_module": "@jupyter-widgets/base",
       "_view_module_version": "1.2.0",
       "_view_name": "StyleView",
       "bar_color": null,
       "description_width": ""
      }
     },
     "b52feea727d54a3a8f1de4c3acbcb576": {
      "model_module": "@jupyter-widgets/controls",
      "model_module_version": "1.5.0",
      "model_name": "HBoxModel",
      "state": {
       "_dom_classes": [],
       "_model_module": "@jupyter-widgets/controls",
       "_model_module_version": "1.5.0",
       "_model_name": "HBoxModel",
       "_view_count": null,
       "_view_module": "@jupyter-widgets/controls",
       "_view_module_version": "1.5.0",
       "_view_name": "HBoxView",
       "box_style": "",
       "children": [
        "IPY_MODEL_a85e9175227644068016419f12737bc7",
        "IPY_MODEL_38379154d9d240f3a46ab67e7d02335b",
        "IPY_MODEL_5b17bf945b4649e785adfbd812e9792b"
       ],
       "layout": "IPY_MODEL_a730990bc4cc4ee6b8aadf2648d776b1"
      }
     },
     "b60c6f2eef4d480a9558070614a4d491": {
      "model_module": "@jupyter-widgets/controls",
      "model_module_version": "1.5.0",
      "model_name": "ProgressStyleModel",
      "state": {
       "_model_module": "@jupyter-widgets/controls",
       "_model_module_version": "1.5.0",
       "_model_name": "ProgressStyleModel",
       "_view_count": null,
       "_view_module": "@jupyter-widgets/base",
       "_view_module_version": "1.2.0",
       "_view_name": "StyleView",
       "bar_color": null,
       "description_width": ""
      }
     },
     "b91ad7cda8794e28bb4ecace78e32b12": {
      "model_module": "@jupyter-widgets/controls",
      "model_module_version": "1.5.0",
      "model_name": "FloatProgressModel",
      "state": {
       "_dom_classes": [],
       "_model_module": "@jupyter-widgets/controls",
       "_model_module_version": "1.5.0",
       "_model_name": "FloatProgressModel",
       "_view_count": null,
       "_view_module": "@jupyter-widgets/controls",
       "_view_module_version": "1.5.0",
       "_view_name": "ProgressView",
       "bar_style": "success",
       "description": "",
       "description_tooltip": null,
       "layout": "IPY_MODEL_e23651d2e8424c68acf1751d48d14101",
       "max": 59.0,
       "min": 0.0,
       "orientation": "horizontal",
       "style": "IPY_MODEL_b60c6f2eef4d480a9558070614a4d491",
       "value": 59.0
      }
     },
     "baf33a5052204b57acbc9ddda235313b": {
      "model_module": "@jupyter-widgets/controls",
      "model_module_version": "1.5.0",
      "model_name": "HTMLModel",
      "state": {
       "_dom_classes": [],
       "_model_module": "@jupyter-widgets/controls",
       "_model_module_version": "1.5.0",
       "_model_name": "HTMLModel",
       "_view_count": null,
       "_view_module": "@jupyter-widgets/controls",
       "_view_module_version": "1.5.0",
       "_view_name": "HTMLView",
       "description": "",
       "description_tooltip": null,
       "layout": "IPY_MODEL_d1c60711079941c187baf4d56002ad6c",
       "placeholder": "​",
       "style": "IPY_MODEL_5c5bae9d749e422c87419e6ccddab741",
       "value": ""
      }
     },
     "bd04bdf9d5844c6f97f92ab13452b244": {
      "model_module": "@jupyter-widgets/controls",
      "model_module_version": "1.5.0",
      "model_name": "HBoxModel",
      "state": {
       "_dom_classes": [],
       "_model_module": "@jupyter-widgets/controls",
       "_model_module_version": "1.5.0",
       "_model_name": "HBoxModel",
       "_view_count": null,
       "_view_module": "@jupyter-widgets/controls",
       "_view_module_version": "1.5.0",
       "_view_name": "HBoxView",
       "box_style": "",
       "children": [
        "IPY_MODEL_6551126639014d78abdc4c81969fdc6b",
        "IPY_MODEL_4e8c7e5577ca4b0cbadcd861db9279c3",
        "IPY_MODEL_74ac09026dd740b183d22441fbf10574"
       ],
       "layout": "IPY_MODEL_e4dced00539349b182b6fc66da47717e"
      }
     },
     "c59a41032fd644cdaf42394d22734d20": {
      "model_module": "@jupyter-widgets/base",
      "model_module_version": "1.2.0",
      "model_name": "LayoutModel",
      "state": {
       "_model_module": "@jupyter-widgets/base",
       "_model_module_version": "1.2.0",
       "_model_name": "LayoutModel",
       "_view_count": null,
       "_view_module": "@jupyter-widgets/base",
       "_view_module_version": "1.2.0",
       "_view_name": "LayoutView",
       "align_content": null,
       "align_items": null,
       "align_self": null,
       "border": null,
       "bottom": null,
       "display": null,
       "flex": "2",
       "flex_flow": null,
       "grid_area": null,
       "grid_auto_columns": null,
       "grid_auto_flow": null,
       "grid_auto_rows": null,
       "grid_column": null,
       "grid_gap": null,
       "grid_row": null,
       "grid_template_areas": null,
       "grid_template_columns": null,
       "grid_template_rows": null,
       "height": null,
       "justify_content": null,
       "justify_items": null,
       "left": null,
       "margin": null,
       "max_height": null,
       "max_width": null,
       "min_height": null,
       "min_width": null,
       "object_fit": null,
       "object_position": null,
       "order": null,
       "overflow": null,
       "overflow_x": null,
       "overflow_y": null,
       "padding": null,
       "right": null,
       "top": null,
       "visibility": null,
       "width": null
      }
     },
     "cefbb1506f5841518323e294058b912f": {
      "model_module": "@jupyter-widgets/base",
      "model_module_version": "1.2.0",
      "model_name": "LayoutModel",
      "state": {
       "_model_module": "@jupyter-widgets/base",
       "_model_module_version": "1.2.0",
       "_model_name": "LayoutModel",
       "_view_count": null,
       "_view_module": "@jupyter-widgets/base",
       "_view_module_version": "1.2.0",
       "_view_name": "LayoutView",
       "align_content": null,
       "align_items": null,
       "align_self": null,
       "border": null,
       "bottom": null,
       "display": null,
       "flex": null,
       "flex_flow": null,
       "grid_area": null,
       "grid_auto_columns": null,
       "grid_auto_flow": null,
       "grid_auto_rows": null,
       "grid_column": null,
       "grid_gap": null,
       "grid_row": null,
       "grid_template_areas": null,
       "grid_template_columns": null,
       "grid_template_rows": null,
       "height": null,
       "justify_content": null,
       "justify_items": null,
       "left": null,
       "margin": null,
       "max_height": null,
       "max_width": null,
       "min_height": null,
       "min_width": null,
       "object_fit": null,
       "object_position": null,
       "order": null,
       "overflow": null,
       "overflow_x": null,
       "overflow_y": null,
       "padding": null,
       "right": null,
       "top": null,
       "visibility": null,
       "width": null
      }
     },
     "cffbb783a1d54891adc0a7a9689cc187": {
      "model_module": "@jupyter-widgets/base",
      "model_module_version": "1.2.0",
      "model_name": "LayoutModel",
      "state": {
       "_model_module": "@jupyter-widgets/base",
       "_model_module_version": "1.2.0",
       "_model_name": "LayoutModel",
       "_view_count": null,
       "_view_module": "@jupyter-widgets/base",
       "_view_module_version": "1.2.0",
       "_view_name": "LayoutView",
       "align_content": null,
       "align_items": null,
       "align_self": null,
       "border": null,
       "bottom": null,
       "display": null,
       "flex": null,
       "flex_flow": null,
       "grid_area": null,
       "grid_auto_columns": null,
       "grid_auto_flow": null,
       "grid_auto_rows": null,
       "grid_column": null,
       "grid_gap": null,
       "grid_row": null,
       "grid_template_areas": null,
       "grid_template_columns": null,
       "grid_template_rows": null,
       "height": null,
       "justify_content": null,
       "justify_items": null,
       "left": null,
       "margin": null,
       "max_height": null,
       "max_width": null,
       "min_height": null,
       "min_width": null,
       "object_fit": null,
       "object_position": null,
       "order": null,
       "overflow": null,
       "overflow_x": null,
       "overflow_y": null,
       "padding": null,
       "right": null,
       "top": null,
       "visibility": null,
       "width": "20px"
      }
     },
     "d1c60711079941c187baf4d56002ad6c": {
      "model_module": "@jupyter-widgets/base",
      "model_module_version": "1.2.0",
      "model_name": "LayoutModel",
      "state": {
       "_model_module": "@jupyter-widgets/base",
       "_model_module_version": "1.2.0",
       "_model_name": "LayoutModel",
       "_view_count": null,
       "_view_module": "@jupyter-widgets/base",
       "_view_module_version": "1.2.0",
       "_view_name": "LayoutView",
       "align_content": null,
       "align_items": null,
       "align_self": null,
       "border": null,
       "bottom": null,
       "display": null,
       "flex": null,
       "flex_flow": null,
       "grid_area": null,
       "grid_auto_columns": null,
       "grid_auto_flow": null,
       "grid_auto_rows": null,
       "grid_column": null,
       "grid_gap": null,
       "grid_row": null,
       "grid_template_areas": null,
       "grid_template_columns": null,
       "grid_template_rows": null,
       "height": null,
       "justify_content": null,
       "justify_items": null,
       "left": null,
       "margin": null,
       "max_height": null,
       "max_width": null,
       "min_height": null,
       "min_width": null,
       "object_fit": null,
       "object_position": null,
       "order": null,
       "overflow": null,
       "overflow_x": null,
       "overflow_y": null,
       "padding": null,
       "right": null,
       "top": null,
       "visibility": null,
       "width": null
      }
     },
     "d68bbba306864cd6a64ac6fac07224eb": {
      "model_module": "@jupyter-widgets/controls",
      "model_module_version": "1.5.0",
      "model_name": "HBoxModel",
      "state": {
       "_dom_classes": [],
       "_model_module": "@jupyter-widgets/controls",
       "_model_module_version": "1.5.0",
       "_model_name": "HBoxModel",
       "_view_count": null,
       "_view_module": "@jupyter-widgets/controls",
       "_view_module_version": "1.5.0",
       "_view_name": "HBoxView",
       "box_style": "",
       "children": [
        "IPY_MODEL_44f677c4b7924d91b60725b6acf58a20",
        "IPY_MODEL_b91ad7cda8794e28bb4ecace78e32b12",
        "IPY_MODEL_49d0d8e80d6442ed88812235fb7e9d88"
       ],
       "layout": "IPY_MODEL_064d3ea074f44ce784a86ad983f1aa73"
      }
     },
     "d8a1bcd3ada44d249ab98a745097d269": {
      "model_module": "@jupyter-widgets/base",
      "model_module_version": "1.2.0",
      "model_name": "LayoutModel",
      "state": {
       "_model_module": "@jupyter-widgets/base",
       "_model_module_version": "1.2.0",
       "_model_name": "LayoutModel",
       "_view_count": null,
       "_view_module": "@jupyter-widgets/base",
       "_view_module_version": "1.2.0",
       "_view_name": "LayoutView",
       "align_content": null,
       "align_items": null,
       "align_self": null,
       "border": null,
       "bottom": null,
       "display": null,
       "flex": null,
       "flex_flow": null,
       "grid_area": null,
       "grid_auto_columns": null,
       "grid_auto_flow": null,
       "grid_auto_rows": null,
       "grid_column": null,
       "grid_gap": null,
       "grid_row": null,
       "grid_template_areas": null,
       "grid_template_columns": null,
       "grid_template_rows": null,
       "height": null,
       "justify_content": null,
       "justify_items": null,
       "left": null,
       "margin": null,
       "max_height": null,
       "max_width": null,
       "min_height": null,
       "min_width": null,
       "object_fit": null,
       "object_position": null,
       "order": null,
       "overflow": null,
       "overflow_x": null,
       "overflow_y": null,
       "padding": null,
       "right": null,
       "top": null,
       "visibility": null,
       "width": null
      }
     },
     "d922ba24b4404266ad6a7fc3d04e03a6": {
      "model_module": "@jupyter-widgets/base",
      "model_module_version": "1.2.0",
      "model_name": "LayoutModel",
      "state": {
       "_model_module": "@jupyter-widgets/base",
       "_model_module_version": "1.2.0",
       "_model_name": "LayoutModel",
       "_view_count": null,
       "_view_module": "@jupyter-widgets/base",
       "_view_module_version": "1.2.0",
       "_view_name": "LayoutView",
       "align_content": null,
       "align_items": null,
       "align_self": null,
       "border": null,
       "bottom": null,
       "display": null,
       "flex": null,
       "flex_flow": null,
       "grid_area": null,
       "grid_auto_columns": null,
       "grid_auto_flow": null,
       "grid_auto_rows": null,
       "grid_column": null,
       "grid_gap": null,
       "grid_row": null,
       "grid_template_areas": null,
       "grid_template_columns": null,
       "grid_template_rows": null,
       "height": null,
       "justify_content": null,
       "justify_items": null,
       "left": null,
       "margin": null,
       "max_height": null,
       "max_width": null,
       "min_height": null,
       "min_width": null,
       "object_fit": null,
       "object_position": null,
       "order": null,
       "overflow": null,
       "overflow_x": null,
       "overflow_y": null,
       "padding": null,
       "right": null,
       "top": null,
       "visibility": null,
       "width": null
      }
     },
     "e23651d2e8424c68acf1751d48d14101": {
      "model_module": "@jupyter-widgets/base",
      "model_module_version": "1.2.0",
      "model_name": "LayoutModel",
      "state": {
       "_model_module": "@jupyter-widgets/base",
       "_model_module_version": "1.2.0",
       "_model_name": "LayoutModel",
       "_view_count": null,
       "_view_module": "@jupyter-widgets/base",
       "_view_module_version": "1.2.0",
       "_view_name": "LayoutView",
       "align_content": null,
       "align_items": null,
       "align_self": null,
       "border": null,
       "bottom": null,
       "display": null,
       "flex": "2",
       "flex_flow": null,
       "grid_area": null,
       "grid_auto_columns": null,
       "grid_auto_flow": null,
       "grid_auto_rows": null,
       "grid_column": null,
       "grid_gap": null,
       "grid_row": null,
       "grid_template_areas": null,
       "grid_template_columns": null,
       "grid_template_rows": null,
       "height": null,
       "justify_content": null,
       "justify_items": null,
       "left": null,
       "margin": null,
       "max_height": null,
       "max_width": null,
       "min_height": null,
       "min_width": null,
       "object_fit": null,
       "object_position": null,
       "order": null,
       "overflow": null,
       "overflow_x": null,
       "overflow_y": null,
       "padding": null,
       "right": null,
       "top": null,
       "visibility": null,
       "width": null
      }
     },
     "e4dced00539349b182b6fc66da47717e": {
      "model_module": "@jupyter-widgets/base",
      "model_module_version": "1.2.0",
      "model_name": "LayoutModel",
      "state": {
       "_model_module": "@jupyter-widgets/base",
       "_model_module_version": "1.2.0",
       "_model_name": "LayoutModel",
       "_view_count": null,
       "_view_module": "@jupyter-widgets/base",
       "_view_module_version": "1.2.0",
       "_view_name": "LayoutView",
       "align_content": null,
       "align_items": null,
       "align_self": null,
       "border": null,
       "bottom": null,
       "display": "inline-flex",
       "flex": null,
       "flex_flow": "row wrap",
       "grid_area": null,
       "grid_auto_columns": null,
       "grid_auto_flow": null,
       "grid_auto_rows": null,
       "grid_column": null,
       "grid_gap": null,
       "grid_row": null,
       "grid_template_areas": null,
       "grid_template_columns": null,
       "grid_template_rows": null,
       "height": null,
       "justify_content": null,
       "justify_items": null,
       "left": null,
       "margin": null,
       "max_height": null,
       "max_width": null,
       "min_height": null,
       "min_width": null,
       "object_fit": null,
       "object_position": null,
       "order": null,
       "overflow": null,
       "overflow_x": null,
       "overflow_y": null,
       "padding": null,
       "right": null,
       "top": null,
       "visibility": null,
       "width": "100%"
      }
     },
     "eaf46094f15b4b38877b5929b604b1f6": {
      "model_module": "@jupyter-widgets/base",
      "model_module_version": "1.2.0",
      "model_name": "LayoutModel",
      "state": {
       "_model_module": "@jupyter-widgets/base",
       "_model_module_version": "1.2.0",
       "_model_name": "LayoutModel",
       "_view_count": null,
       "_view_module": "@jupyter-widgets/base",
       "_view_module_version": "1.2.0",
       "_view_name": "LayoutView",
       "align_content": null,
       "align_items": null,
       "align_self": null,
       "border": null,
       "bottom": null,
       "display": null,
       "flex": null,
       "flex_flow": null,
       "grid_area": null,
       "grid_auto_columns": null,
       "grid_auto_flow": null,
       "grid_auto_rows": null,
       "grid_column": null,
       "grid_gap": null,
       "grid_row": null,
       "grid_template_areas": null,
       "grid_template_columns": null,
       "grid_template_rows": null,
       "height": null,
       "justify_content": null,
       "justify_items": null,
       "left": null,
       "margin": null,
       "max_height": null,
       "max_width": null,
       "min_height": null,
       "min_width": null,
       "object_fit": null,
       "object_position": null,
       "order": null,
       "overflow": null,
       "overflow_x": null,
       "overflow_y": null,
       "padding": null,
       "right": null,
       "top": null,
       "visibility": null,
       "width": null
      }
     },
     "ef553d645e1a4710b7994331ce225837": {
      "model_module": "@jupyter-widgets/base",
      "model_module_version": "1.2.0",
      "model_name": "LayoutModel",
      "state": {
       "_model_module": "@jupyter-widgets/base",
       "_model_module_version": "1.2.0",
       "_model_name": "LayoutModel",
       "_view_count": null,
       "_view_module": "@jupyter-widgets/base",
       "_view_module_version": "1.2.0",
       "_view_name": "LayoutView",
       "align_content": null,
       "align_items": null,
       "align_self": null,
       "border": null,
       "bottom": null,
       "display": null,
       "flex": null,
       "flex_flow": null,
       "grid_area": null,
       "grid_auto_columns": null,
       "grid_auto_flow": null,
       "grid_auto_rows": null,
       "grid_column": null,
       "grid_gap": null,
       "grid_row": null,
       "grid_template_areas": null,
       "grid_template_columns": null,
       "grid_template_rows": null,
       "height": null,
       "justify_content": null,
       "justify_items": null,
       "left": null,
       "margin": null,
       "max_height": null,
       "max_width": null,
       "min_height": null,
       "min_width": null,
       "object_fit": null,
       "object_position": null,
       "order": null,
       "overflow": null,
       "overflow_x": null,
       "overflow_y": null,
       "padding": null,
       "right": null,
       "top": null,
       "visibility": null,
       "width": null
      }
     },
     "f232f110fb8440769dc69c749dce4894": {
      "model_module": "@jupyter-widgets/controls",
      "model_module_version": "1.5.0",
      "model_name": "ProgressStyleModel",
      "state": {
       "_model_module": "@jupyter-widgets/controls",
       "_model_module_version": "1.5.0",
       "_model_name": "ProgressStyleModel",
       "_view_count": null,
       "_view_module": "@jupyter-widgets/base",
       "_view_module_version": "1.2.0",
       "_view_name": "StyleView",
       "bar_color": null,
       "description_width": ""
      }
     },
     "fa67d404a0d7493f98c1e2c7d7845e1b": {
      "model_module": "@jupyter-widgets/controls",
      "model_module_version": "1.5.0",
      "model_name": "DescriptionStyleModel",
      "state": {
       "_model_module": "@jupyter-widgets/controls",
       "_model_module_version": "1.5.0",
       "_model_name": "DescriptionStyleModel",
       "_view_count": null,
       "_view_module": "@jupyter-widgets/base",
       "_view_module_version": "1.2.0",
       "_view_name": "StyleView",
       "description_width": ""
      }
     },
     "fef4581c1da943e7b3431b8d9db29ef6": {
      "model_module": "@jupyter-widgets/controls",
      "model_module_version": "1.5.0",
      "model_name": "DescriptionStyleModel",
      "state": {
       "_model_module": "@jupyter-widgets/controls",
       "_model_module_version": "1.5.0",
       "_model_name": "DescriptionStyleModel",
       "_view_count": null,
       "_view_module": "@jupyter-widgets/base",
       "_view_module_version": "1.2.0",
       "_view_name": "StyleView",
       "description_width": ""
      }
     }
    },
    "version_major": 2,
    "version_minor": 0
   }
  }
 },
 "nbformat": 4,
 "nbformat_minor": 5
}
